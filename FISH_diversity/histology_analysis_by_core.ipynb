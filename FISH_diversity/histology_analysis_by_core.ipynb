{
 "cells": [
  {
   "cell_type": "markdown",
   "metadata": {},
   "source": [
    "History analysis by core"
   ]
  },
  {
   "cell_type": "code",
   "execution_count": null,
   "metadata": {},
   "outputs": [],
   "source": [
    "import numpy as np\n",
    "import matplotlib as mpl\n",
    "import matplotlib.pyplot as plt\n",
    "import seaborn as sns\n",
    "import pandas as pd\n",
    "import sklearn\n",
    "import random\n",
    "import glob\n",
    "import itertools\n",
    "from itertools import groupby\n",
    "import seaborn as sns\n",
    "import matplotlib.ticker as ticker\n",
    "import sys\n",
    "import scipy.stats  as stats\n",
    "pd.set_option('display.max_columns', None)\n",
    "from sklearn.preprocessing import MinMaxScaler,StandardScaler\n",
    "scaler = MinMaxScaler()\n",
    "import statsmodels.stats as sms\n",
    "from statsmodels.stats import multitest\n",
    "from sklearn.cluster import AgglomerativeClustering"
   ]
  },
  {
   "cell_type": "code",
   "execution_count": null,
   "metadata": {},
   "outputs": [],
   "source": [
    "tumor_roi_dat = pd.read_csv('new_annotation_Feb2021_KW.txt', delimiter = \"\\t\")\n",
    "protein_dat=pd.read_csv('ERCC_IgG_norm.csv')\n",
    "nuc_count = pd.read_csv('nuc_count.csv')\n",
    "\n",
    "protein_dat=protein_dat.rename({'Unnamed: 0': 'Protein'}, axis=1) \n",
    "\n",
    "all_rois=list(protein_dat.columns)[1:]\n",
    "\n",
    "tumor_core_roi_dict={}\n",
    "excluded_rois=[]\n",
    "for loc in range(len(tumor_roi_dat)):\n",
    "    cur_row = tumor_roi_dat.iloc[loc]\n",
    "    roi = cur_row['ROI']\n",
    "    roi_num=roi.split('_')[1]\n",
    "    if len(roi_num)==1:\n",
    "        roi = 'ROI_0'+roi_num\n",
    "    #print(cur_row)\n",
    "    if roi in all_rois:\n",
    "        key = (cur_row['Tumor_ID'],cur_row['Core_ID'])\n",
    "        if key[0]==21 or key[0]==8:\n",
    "            excluded_rois.append(roi)\n",
    "        else:\n",
    "            if key in tumor_core_roi_dict:\n",
    "                tumor_core_roi_dict[key].append(roi)\n",
    "            else:\n",
    "                tumor_core_roi_dict[key] = [roi]            \n",
    "\n",
    "tumor_ids=list(tumor_roi_dat['Tumor_ID'])\n",
    "core_ids=list(tumor_roi_dat['Core_ID'])\n",
    "fish_cores=list(tumor_roi_dat['FISH_core'])\n",
    "\n",
    "tumor_core_to_shreya_base={(tumor_ids[i],core_ids[i]):fish_cores[i] for i in range(len(tumor_roi_dat))}\n",
    "tumor_core_to_shreya={}\n",
    "for k,v in tumor_core_to_shreya_base.items():\n",
    "    if k in tumor_core_roi_dict.keys():\n",
    "        tumor_core_to_shreya[k]=v\n",
    "all_proteins_cores_shreya=list(tumor_core_to_shreya.values())\n",
    "\n",
    "tumor_roi_dict={}\n",
    "for k, rois in tumor_core_roi_dict.items():\n",
    "    tumor=k[0]\n",
    "    if tumor in tumor_roi_dict.keys():\n",
    "        tumor_roi_dict[tumor]=tumor_roi_dict[tumor]+rois\n",
    "    else:\n",
    "        tumor_roi_dict[tumor]=rois\n",
    "            \n",
    "nuc_count=nuc_count.rename({'Unnamed: 0': 'ROI'}, axis=1) \n",
    "\n",
    "core_protein_dfs=[]\n",
    "for core,rois in tumor_core_roi_dict.items():\n",
    "    cur_df=protein_dat[rois]\n",
    "    cur_df.index=protein_dat['Protein']\n",
    "    tot_nuc_count=nuc_count[nuc_count['ROI'].isin(protein_dat[rois])]['nuclei_count'].sum()\n",
    "    for roi in rois:\n",
    "        cur_weight=list(nuc_count[nuc_count['ROI']==roi]['nuclei_count'])[0]/tot_nuc_count\n",
    "        cur_df[roi]=cur_df[roi]*cur_weight \n",
    "    cur_df=cur_df.sum(axis=1).to_frame().rename(columns={0:tumor_core_to_shreya[core]})\n",
    "    core_protein_dfs.append(cur_df)\n",
    "protein_dat_by_core=pd.concat(core_protein_dfs,1)\n",
    "\n",
    "protein_dat_by_core=protein_dat_by_core.T"
   ]
  },
  {
   "cell_type": "code",
   "execution_count": null,
   "metadata": {},
   "outputs": [],
   "source": [
    "h_and_e=pd.read_excel('H_and_E_estimates.xlsx',sheet_name='in')\n",
    "zero_cores=list(h_and_e[(h_and_e['tumor estimate']==0) &(h_and_e['normal brain']==0)&(h_and_e['hemorrhage']==0)&(h_and_e['necrosis']==0)]['core_ID'])\n",
    "zero_cores=zero_cores+[26]\n",
    "h_and_e_mask = h_and_e['core_ID'].isin(zero_cores)\n",
    "h_and_e_new=h_and_e[~h_and_e_mask]\n",
    "h_and_e_new=h_and_e_new.reset_index()\n",
    "h_and_e_new=h_and_e_new.drop('index',1)\n",
    "\n",
    "histo_df=h_and_e_new[h_and_e_new['core_ID'].isin(list(protein_dat_by_core.index))]"
   ]
  },
  {
   "cell_type": "code",
   "execution_count": null,
   "metadata": {},
   "outputs": [],
   "source": []
  },
  {
   "cell_type": "code",
   "execution_count": null,
   "metadata": {},
   "outputs": [],
   "source": [
    "histo_df.index=histo_df['core_ID']"
   ]
  },
  {
   "cell_type": "code",
   "execution_count": null,
   "metadata": {},
   "outputs": [],
   "source": [
    "MVP_df=histo_df[histo_df['other'].isin(['microvascular proliferation','no normal brain, partial core, early MVP','possibly focal MVP','early MVP','Microvascular proliferation'])]"
   ]
  },
  {
   "cell_type": "code",
   "execution_count": null,
   "metadata": {},
   "outputs": [],
   "source": [
    "MVP_cores=list(MVP_df['core_ID'])"
   ]
  },
  {
   "cell_type": "code",
   "execution_count": null,
   "metadata": {},
   "outputs": [],
   "source": [
    "MVP_mask=histo_df['core_ID'].isin(MVP_cores)"
   ]
  },
  {
   "cell_type": "code",
   "execution_count": null,
   "metadata": {},
   "outputs": [],
   "source": [
    "histo_df_by_core=histo_df.copy()\n",
    "histo_df_by_core_MVP=histo_df_by_core[MVP_mask]\n",
    "histo_df_by_core_MVP['MVP']=1\n",
    "histo_df_by_core_not_MVP=histo_df_by_core[~MVP_mask]\n",
    "histo_df_by_core_not_MVP['pure tumor']=1*(histo_df_by_core_not_MVP['tumor estimate']==1.)\n",
    "histo_df_by_core_not_MVP['tumor with hemorrhage']=1*((histo_df_by_core_not_MVP['tumor estimate']>0)&(histo_df_by_core_not_MVP['hemorrhage']>0))\n",
    "histo_df_by_core_not_MVP['tumor with necrosis']=1*((histo_df_by_core_not_MVP['tumor estimate']>0)&(histo_df_by_core_not_MVP['necrosis']>0))\n"
   ]
  },
  {
   "cell_type": "code",
   "execution_count": null,
   "metadata": {},
   "outputs": [],
   "source": [
    "histo_df_by_core=histo_df.copy()\n",
    "histo_df_by_core_MVP=histo_df_by_core[MVP_mask]\n",
    "histo_df_by_core_MVP['MVP']=1\n",
    "histo_df_by_core_not_MVP=histo_df_by_core[~MVP_mask]\n",
    "histo_df_by_core_not_MVP['T']=1*(histo_df_by_core_not_MVP['tumor estimate']==1.)\n",
    "histo_df_by_core_not_MVP['TH']=1*((histo_df_by_core_not_MVP['tumor estimate']>0)&(histo_df_by_core_not_MVP['hemorrhage']>0)&(histo_df_by_core_not_MVP['necrosis']==0))\n",
    "histo_df_by_core_not_MVP['TN']=1*((histo_df_by_core_not_MVP['tumor estimate']>0)&(histo_df_by_core_not_MVP['necrosis']>0)&(histo_df_by_core_not_MVP['hemorrhage']==0))\n",
    "histo_df_by_core_not_MVP['TNH']=1*((histo_df_by_core_not_MVP['tumor estimate']>0)&(histo_df_by_core_not_MVP['necrosis']>0)&(histo_df_by_core_not_MVP['hemorrhage']>0))\n"
   ]
  },
  {
   "cell_type": "code",
   "execution_count": null,
   "metadata": {},
   "outputs": [],
   "source": [
    "new_df=pd.concat([histo_df_by_core_MVP['MVP'].to_frame(),histo_df_by_core_not_MVP['T'].to_frame(),histo_df_by_core_not_MVP['TH'].to_frame(),histo_df_by_core_not_MVP['TN'].to_frame(),histo_df_by_core_not_MVP['TNH'].to_frame()],1)"
   ]
  },
  {
   "cell_type": "code",
   "execution_count": null,
   "metadata": {},
   "outputs": [],
   "source": [
    "new_df=new_df.fillna(0)\n",
    "other_cores=[10,34,46,80]\n",
    "keep_cores=set(list(new_df.index)).difference(set(other_cores))\n",
    "new_df=new_df.loc[keep_cores]"
   ]
  },
  {
   "cell_type": "code",
   "execution_count": null,
   "metadata": {},
   "outputs": [],
   "source": [
    "df_all=pd.concat([new_df,protein_dat_by_core],1).dropna()\n",
    "df_all['Core']=df_all.index\n",
    "shreya_to_tumor={v:k[0] for k,v in tumor_core_to_shreya.items()}\n",
    "df_all['Tumor']=df_all['Core'].map(shreya_to_tumor)\n",
    "\n",
    "core_to_color={}\n",
    "label_colors=sns.color_palette(\"hls\")\n",
    "for core in new_df[new_df['MVP']==1].index:\n",
    "    core_to_color[core]=label_colors[4]\n",
    "for core in new_df[new_df['TH']==1].index:\n",
    "    core_to_color[core]=label_colors[1]\n",
    "for core in new_df[new_df['TN']==1].index:\n",
    "    core_to_color[core]=label_colors[2]\n",
    "for core in new_df[new_df['TNH']==1].index:\n",
    "    core_to_color[core]=label_colors[3]\n",
    "for core in new_df[new_df['T']==1].index:\n",
    "    core_to_color[core]=label_colors[0]\n",
    "    \n",
    "color_rows=pd.Series(core_to_color,name='color')\n",
    "\n",
    "protein_dat_by_core_labeled=pd.concat([protein_dat_by_core,color_rows.to_frame()],1)\n",
    "\n",
    "protein_dat_by_core_labeled=protein_dat_by_core_labeled.dropna()\n",
    "\n",
    "protein_dat_by_core_labeled=protein_dat_by_core_labeled.sort_values(by='color')"
   ]
  },
  {
   "cell_type": "code",
   "execution_count": null,
   "metadata": {},
   "outputs": [],
   "source": [
    "plt.rcParams[\"font.size\"] = 8\n",
    "plt.rcParams[\"font.family\"] = 'Arial'\n",
    "cur_df0=protein_dat_by_core_labeled\n",
    "cur_df0=cur_df0.drop(['color'],1)\n",
    "scaler=MinMaxScaler()\n",
    "cur_df = pd.DataFrame(scaler.fit_transform(cur_df0), columns=cur_df0.columns)\n",
    "cur_df.index=cur_df0.index\n",
    "sns.clustermap(cur_df,method='ward',xticklabels=1,yticklabels=False,cmap=\"coolwarm\",row_colors=[protein_dat_by_core_labeled['color'].dropna()])\n",
    "#plt.savefig('histology_categories_with_protein_clusters_shown.pdf')\n",
    "plt.show()"
   ]
  },
  {
   "cell_type": "code",
   "execution_count": null,
   "metadata": {},
   "outputs": [],
   "source": [
    "plt.rcParams[\"font.size\"] = 14\n",
    "plt.rcParams[\"font.family\"] = 'Arial'\n",
    "palette = dict(zip(['Pure tumor','Tumor with hemorrhage','Tumor with necrosis','Tumor with hemorrhage and necrosis','Microvascular proliferation'], [label_colors[i] for i in range(5)]))\n",
    "handles = [mpl.patches.Patch(color=palette[x], label=x) for x in palette.keys()]\n",
    "plt.legend(handles=handles)\n",
    "plt.gca().set_axis_off()\n",
    "plt.tight_layout()\n",
    "#plt.savefig('histology_clusterplot_legend.pdf')\n",
    "plt.show()"
   ]
  },
  {
   "cell_type": "code",
   "execution_count": null,
   "metadata": {},
   "outputs": [],
   "source": [
    "clinical=pd.read_excel('GLIOMA_clinical.xlsx',sheet_name='Sheet1')"
   ]
  },
  {
   "cell_type": "code",
   "execution_count": null,
   "metadata": {},
   "outputs": [],
   "source": [
    "cores_with_steroids=[]\n",
    "tumors_with_steroids=list(clinical[clinical['Steroids ']=='Y']['Patient #'])\n",
    "for k,v in shreya_to_tumor.items():\n",
    "    if v in tumors_with_steroids:\n",
    "        cores_with_steroids.append(k)"
   ]
  },
  {
   "cell_type": "code",
   "execution_count": null,
   "metadata": {},
   "outputs": [],
   "source": [
    "cores_with_steroids"
   ]
  },
  {
   "cell_type": "code",
   "execution_count": null,
   "metadata": {},
   "outputs": [],
   "source": [
    "steroid_dict={}\n",
    "tumors_with_steroids=list(clinical[clinical['Steroids ']=='Y']['Patient #'])\n",
    "for k,v in shreya_to_tumor.items():\n",
    "    if v in tumors_with_steroids:\n",
    "        steroid_dict[k]='pink'\n",
    "    else:\n",
    "        steroid_dict[k]='gray'"
   ]
  },
  {
   "cell_type": "code",
   "execution_count": null,
   "metadata": {},
   "outputs": [],
   "source": [
    "steroids_df_by_core=pd.DataFrame.from_dict(steroid_dict,orient='index').rename(columns={0:'treat_steroids'})\n"
   ]
  },
  {
   "cell_type": "code",
   "execution_count": null,
   "metadata": {},
   "outputs": [],
   "source": [
    "full_df=pd.concat([protein_dat_by_core_labeled,steroids_df_by_core],1).dropna()"
   ]
  },
  {
   "cell_type": "code",
   "execution_count": null,
   "metadata": {},
   "outputs": [],
   "source": [
    "plt.rcParams[\"font.size\"] = 8\n",
    "plt.rcParams[\"font.family\"] = 'Arial'\n",
    "cur_df0=full_df\n",
    "cur_df0=cur_df0.drop(['color','treat_steroids'],1)\n",
    "scaler=MinMaxScaler()\n",
    "cur_df = pd.DataFrame(scaler.fit_transform(cur_df0), columns=cur_df0.columns)\n",
    "cur_df.index=cur_df0.index\n",
    "sns.clustermap(cur_df,method='ward',xticklabels=1,yticklabels=False,cmap=\"coolwarm\",row_colors=[full_df['color'],full_df['treat_steroids']])\n",
    "#plt.savefig('histology_categories_with_protein_clusters_shown_and_steroids.pdf')\n",
    "plt.show()"
   ]
  },
  {
   "cell_type": "code",
   "execution_count": null,
   "metadata": {},
   "outputs": [],
   "source": []
  }
 ],
 "metadata": {
  "kernelspec": {
   "display_name": "Python 3 (ipykernel)",
   "language": "python",
   "name": "python3"
  },
  "language_info": {
   "codemirror_mode": {
    "name": "ipython",
    "version": 3
   },
   "file_extension": ".py",
   "mimetype": "text/x-python",
   "name": "python",
   "nbconvert_exporter": "python",
   "pygments_lexer": "ipython3",
   "version": "3.9.7"
  }
 },
 "nbformat": 4,
 "nbformat_minor": 4
}
