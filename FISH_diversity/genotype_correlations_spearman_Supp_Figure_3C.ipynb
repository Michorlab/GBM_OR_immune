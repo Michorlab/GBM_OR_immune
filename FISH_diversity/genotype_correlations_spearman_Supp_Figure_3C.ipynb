{
 "cells": [
  {
   "cell_type": "code",
   "execution_count": null,
   "metadata": {},
   "outputs": [],
   "source": [
    "import numpy as np\n",
    "import matplotlib\n",
    "import matplotlib.pyplot as plt\n",
    "import seaborn as sns\n",
    "import pandas as pd\n",
    "import sklearn\n",
    "import random\n",
    "import glob\n",
    "from operator import itemgetter\n",
    "import itertools\n",
    "from itertools import groupby\n",
    "import seaborn as sns\n",
    "import matplotlib.ticker as ticker\n",
    "import sys\n",
    "import scipy.stats  as stats\n",
    "pd.set_option('display.max_columns', None)\n",
    "from sklearn.preprocessing import MinMaxScaler\n",
    "scaler = MinMaxScaler()\n",
    "from statsmodels.stats import multitest\n",
    "import scipy.optimize as opt"
   ]
  },
  {
   "cell_type": "code",
   "execution_count": null,
   "metadata": {},
   "outputs": [],
   "source": [
    "tumor_roi_dat = pd.read_csv('new_annotation_Feb2021_KW.txt', delimiter = \"\\t\")\n",
    "protein_dat=pd.read_csv('ERCC_IgG_norm.csv')\n",
    "nuc_count = pd.read_csv('nuc_count.csv')\n",
    "\n",
    "protein_dat=protein_dat.rename({'Unnamed: 0': 'Protein'}, axis=1) \n",
    "\n",
    "all_rois=list(protein_dat.columns)[1:]\n",
    "\n",
    "tumor_core_roi_dict={}\n",
    "excluded_rois=[]\n",
    "for loc in range(len(tumor_roi_dat)):\n",
    "    cur_row = tumor_roi_dat.iloc[loc]\n",
    "    roi = cur_row['ROI']\n",
    "    roi_num=roi.split('_')[1]\n",
    "    if len(roi_num)==1:\n",
    "        roi = 'ROI_0'+roi_num\n",
    "    #print(cur_row)\n",
    "    if roi in all_rois:\n",
    "        key = (cur_row['Tumor_ID'],cur_row['Core_ID'])\n",
    "        if key[0]==21 or key[0]==8:\n",
    "            excluded_rois.append(roi)\n",
    "        else:\n",
    "            if key in tumor_core_roi_dict:\n",
    "                tumor_core_roi_dict[key].append(roi)\n",
    "            else:\n",
    "                tumor_core_roi_dict[key] = [roi]            \n",
    "\n",
    "tumor_ids=list(tumor_roi_dat['Tumor_ID'])\n",
    "core_ids=list(tumor_roi_dat['Core_ID'])\n",
    "fish_cores=list(tumor_roi_dat['FISH_core'])\n",
    "\n",
    "tumor_core_to_shreya_base={(tumor_ids[i],core_ids[i]):fish_cores[i] for i in range(len(tumor_roi_dat))}\n",
    "tumor_core_to_shreya={}\n",
    "for k,v in tumor_core_to_shreya_base.items():\n",
    "    if k in tumor_core_roi_dict.keys():\n",
    "        tumor_core_to_shreya[k]=v\n",
    "all_proteins_cores_shreya=list(tumor_core_to_shreya.values())\n",
    "\n",
    "tumor_roi_dict={}\n",
    "for k, rois in tumor_core_roi_dict.items():\n",
    "    tumor=k[0]\n",
    "    if tumor in tumor_roi_dict.keys():\n",
    "        tumor_roi_dict[tumor]=tumor_roi_dict[tumor]+rois\n",
    "    else:\n",
    "        tumor_roi_dict[tumor]=rois\n",
    "            \n",
    "nuc_count=nuc_count.rename({'Unnamed: 0': 'ROI'}, axis=1) \n",
    "\n",
    "tumor_protein_dfs=[]\n",
    "for tumor,rois in tumor_roi_dict.items():\n",
    "    cur_df=protein_dat[rois]\n",
    "    cur_df.index=protein_dat['Protein']\n",
    "    tot_nuc_count=nuc_count[nuc_count['ROI'].isin(protein_dat[rois])]['nuclei_count'].sum()\n",
    "    for roi in rois:\n",
    "        cur_weight=list(nuc_count[nuc_count['ROI']==roi]['nuclei_count'])[0]/tot_nuc_count\n",
    "        cur_df[roi]=cur_df[roi]*cur_weight \n",
    "    cur_df=cur_df.sum(axis=1).to_frame().rename(columns={0:tumor})\n",
    "    tumor_protein_dfs.append(cur_df)\n",
    "protein_dat_by_tumor=pd.concat(tumor_protein_dfs,1)\n",
    "\n",
    "protein_dat_by_tumor=protein_dat_by_tumor.T"
   ]
  },
  {
   "cell_type": "code",
   "execution_count": null,
   "metadata": {},
   "outputs": [],
   "source": [
    "len(all_proteins_cores_shreya)"
   ]
  },
  {
   "cell_type": "code",
   "execution_count": null,
   "metadata": {},
   "outputs": [],
   "source": [
    "filenames = glob.glob(\"FISH_data/table*\")\n",
    "dfs_o = {}\n",
    "for filename in filenames:\n",
    "    df_o = pd.read_csv(filename)\n",
    "    shreya_core_num = int(filename.split('_')[2])\n",
    "    image_num = int(filename.split('_')[3].split('.')[0])\n",
    "    dfs_o[(shreya_core_num,image_num)]=df_o\n",
    "\n",
    "    \n",
    "HI=6\n",
    "MAX_HI = 50\n",
    "\n",
    "def geno_hi(geno,df):\n",
    "    return (df[geno]>=HI)&(df[geno]<=MAX_HI)\n",
    "def geno_lo(geno,df):\n",
    "    return (df[geno]>=1)&(df[geno]<HI)\n",
    "\n",
    "for df_fish in list(dfs_o.values()):\n",
    "    df_fish['EGFR_amp']=1*(geno_hi('EGFR',df_fish))\n",
    "    df_fish['PDGFRA_amp']=1*(geno_hi('PDGFRA',df_fish))\n",
    "    df_fish['CDK4_amp']=1*(geno_hi('CDK4',df_fish))\n",
    "    \n",
    "dfs={}    \n",
    "for key,df in dfs_o.items():\n",
    "\n",
    "    if key[0] not in tumor_core_to_shreya.values():\n",
    "        continue\n",
    "\n",
    "    \n",
    "    df['EGFR_CDK4_amp']=1*((df['EGFR']>=HI)&(df['CDK4']>=HI))\n",
    "    df['EGFR_NOT_CDK4_amp']=1*((df['EGFR']>=HI)&(df['CDK4']<HI))\n",
    "    df['CDK4_NOT_EGFR_amp']=1*((df['CDK4']>=HI)&(df['EGFR']<HI))\n",
    "    \n",
    "    df['Non_amp']=1*((df['EGFR']<HI)&(df['CDK4']<HI))\n",
    "    \n",
    "    dfs[key]=df[(df['EGFR']<=MAX_HI)&(df['PDGFRA']<=MAX_HI)&(df['CDK4']<=MAX_HI)]\n"
   ]
  },
  {
   "cell_type": "code",
   "execution_count": null,
   "metadata": {},
   "outputs": [],
   "source": [
    "shreya_to_tumor={v:k[0] for k,v in tumor_core_to_shreya.items()}\n",
    "core_list=list(set([item[0] for item in dfs.keys()]))\n",
    "tumor_list = list(set([shreya_to_tumor[core] for core in core_list]))\n",
    "\n",
    "tumor_image_dict={}\n",
    "for k in dfs.keys():\n",
    "    this_tumor=shreya_to_tumor[k[0]]\n",
    "    if this_tumor in tumor_image_dict.keys():\n",
    "        tumor_image_dict[this_tumor]=tumor_image_dict[this_tumor]+[k]\n",
    "    else:\n",
    "        tumor_image_dict[this_tumor]=[k]\n",
    "        \n",
    "dfs_in_tumor={}\n",
    "for tumor, images in tumor_image_dict.items():\n",
    "    dfs_in_tumor[tumor]=pd.concat([dfs[image] for image in images])"
   ]
  },
  {
   "cell_type": "code",
   "execution_count": null,
   "metadata": {},
   "outputs": [],
   "source": [
    "EGFR_dict={}\n",
    "CDK4_dict={}\n",
    "EGFR_NOT_CDK4_dict={}\n",
    "CDK4_NOT_EGFR_dict={}\n",
    "EGFR_AND_CDK4_dict={}\n",
    "Non_amp_dict={}\n",
    "cats=['EGFR_amp','CDK4_amp','EGFR_CDK4_amp']\n",
    "for tumor in tumor_list:\n",
    "    this_df=dfs_in_tumor[tumor]\n",
    "    EGFR_dict[tumor]=len(this_df[this_df['EGFR_amp']==1])/len(this_df)\n",
    "    CDK4_dict[tumor]=len(this_df[this_df['CDK4_amp']==1])/len(this_df)\n",
    "    EGFR_NOT_CDK4_dict[tumor]=len(this_df[this_df['EGFR_NOT_CDK4_amp']==1])/len(this_df)\n",
    "    CDK4_NOT_EGFR_dict[tumor]=len(this_df[this_df['CDK4_NOT_EGFR_amp']==1])/len(this_df)\n",
    "    EGFR_AND_CDK4_dict[tumor]=len(this_df[this_df['EGFR_CDK4_amp']==1])/len(this_df)\n",
    "    Non_amp_dict[tumor]=len(this_df[this_df['Non_amp']==1])/len(this_df)\n",
    "    \n",
    "EGFR_df=pd.DataFrame.from_dict(EGFR_dict,orient='index').rename(columns={0:'EGFR_prop'})\n",
    "CDK4_df=pd.DataFrame.from_dict(CDK4_dict,orient='index').rename(columns={0:'CDK4_prop'})\n",
    "EGFR_only_df=pd.DataFrame.from_dict(EGFR_NOT_CDK4_dict,orient='index').rename(columns={0:'EGFR_only_prop'})\n",
    "CDK4_only_df=pd.DataFrame.from_dict(CDK4_NOT_EGFR_dict,orient='index').rename(columns={0:'CDK4_only_prop'})\n",
    "EGFR_AND_CDK4_df=pd.DataFrame.from_dict(EGFR_AND_CDK4_dict,orient='index').rename(columns={0:'EGFR_AND_CDK4_prop'})\n",
    "Non_amp_df=pd.DataFrame.from_dict(Non_amp_dict,orient='index').rename(columns={0:'Non_amp_prop'})\n",
    "\n",
    "df_combined=pd.concat([EGFR_df,CDK4_df,EGFR_AND_CDK4_df,Non_amp_df],1)"
   ]
  },
  {
   "cell_type": "code",
   "execution_count": null,
   "metadata": {},
   "outputs": [],
   "source": [
    "def inverse_fit(x,a,b):\n",
    "    return a/x+b\n",
    "def linear_fit(x,a,b):\n",
    "    return a*x+b"
   ]
  },
  {
   "cell_type": "code",
   "execution_count": null,
   "metadata": {},
   "outputs": [],
   "source": [
    "len(df_combined)"
   ]
  },
  {
   "cell_type": "code",
   "execution_count": null,
   "metadata": {},
   "outputs": [],
   "source": [
    "df_combined.columns"
   ]
  },
  {
   "cell_type": "code",
   "execution_count": null,
   "metadata": {},
   "outputs": [],
   "source": [
    "spearman_coeffs=pd.read_csv('cormat_from_r_genotype_correlations_spearman_coefficients.csv').replace('NA.','N/O')\n",
    "spearman_adj_p=pd.read_csv('cormat_from_r_genotype_correlations_spearman_pvals_adj_fdr.csv').replace('NA.','N/O')\n",
    "spearman_coeffs.index=spearman_coeffs['Unnamed: 0']\n",
    "spearman_adj_p.index=spearman_adj_p['Unnamed: 0']"
   ]
  },
  {
   "cell_type": "code",
   "execution_count": null,
   "metadata": {},
   "outputs": [],
   "source": [
    "labels={'EGFR_prop':'E','CDK4_prop':'C','EGFR_AND_CDK4_prop':'EC','Non_amp_prop':'N/O'}"
   ]
  },
  {
   "cell_type": "code",
   "execution_count": null,
   "metadata": {},
   "outputs": [],
   "source": [
    "df_combined=df_combined.rename(columns=labels)"
   ]
  },
  {
   "cell_type": "code",
   "execution_count": null,
   "metadata": {},
   "outputs": [],
   "source": [
    "spearman_coeffs=spearman_coeffs.rename(columns={'NA.':'N/O'})\n",
    "spearman_adj_p=spearman_adj_p.rename(columns={'NA.':'N/O'})"
   ]
  },
  {
   "cell_type": "code",
   "execution_count": null,
   "metadata": {},
   "outputs": [],
   "source": [
    "spearman_adj_p"
   ]
  },
  {
   "cell_type": "code",
   "execution_count": null,
   "metadata": {},
   "outputs": [],
   "source": [
    "#NOTE: plots shown in Supp Fig 3C were plotted in Mathematica using the data from above;\n",
    "#here we plot the data with matplotlib\n",
    "plt.rcParams[\"font.size\"] = 25\n",
    "plt.rcParams[\"font.family\"] = 'Arial'\n",
    "title_size=23\n",
    "fig= plt.figure()\n",
    "#N/O vs C\n",
    "cat_x='C'\n",
    "cat_y='N/O'\n",
    "X=list(df_combined[cat_x])\n",
    "Y=list(df_combined[cat_y])\n",
    "coeff=spearman_coeffs.loc[cat_x][cat_y]\n",
    "pval=spearman_adj_p.loc[cat_x][cat_y]\n",
    "#[coeff,pval]=list(stats.spearmanr(list(df_combined[cat_x]),list(df_combined[cat_y]))) #Spearman, p\n",
    "plt.scatter(X,Y,color='lightsalmon',s=40)\n",
    "plt.xlabel(cat_x)\n",
    "plt.ylabel(cat_y)\n",
    "plt.yticks([0,0.2,0.4,0.6])\n",
    "#axes[0].text(0.63,0.45,'Spearman '+'{:.2f}'.format(coeff)+'\\nP-value = '+'{:.1e}'.format(pval))\n",
    "plt.title('Spearman '+'{:.2f}'.format(coeff)+', p = '+'{:.1e}'.format(pval),fontsize=title_size)\n",
    "plt.show()\n"
   ]
  },
  {
   "cell_type": "code",
   "execution_count": null,
   "metadata": {},
   "outputs": [],
   "source": [
    "#NOTE: plots shown in Supp Fig 3C were plotted in Mathematica using the data from above;\n",
    "#here we plot the data with matplotlib\n",
    "plt.rcParams[\"font.size\"] = 25\n",
    "plt.rcParams[\"font.family\"] = 'Arial'\n",
    "title_size=23\n",
    "fig= plt.figure()\n",
    "#E vs C\n",
    "cat_x='C'\n",
    "cat_y='E'\n",
    "X=list(df_combined[cat_x])\n",
    "Y=list(df_combined[cat_y])\n",
    "coeff=spearman_coeffs.loc[cat_x][cat_y]\n",
    "pval=spearman_adj_p.loc[cat_x][cat_y]\n",
    "#[coeff,pval]=list(stats.spearmanr(list(df_combined[cat_x]),list(df_combined[cat_y]))) #Spearman, p\n",
    "plt.scatter(X,Y,color='steelblue',s=40)\n",
    "plt.xlabel(cat_x)\n",
    "plt.ylabel(cat_y)\n",
    "plt.yticks([0,0.1,0.2,0.3,0.4,0.5])\n",
    "#axes[0].text(0.63,0.45,'Spearman '+'{:.2f}'.format(coeff)+'\\nP-value = '+'{:.1e}'.format(pval))\n",
    "plt.title('Spearman '+'{:.2f}'.format(coeff)+', p = '+'{:.1e}'.format(pval),fontsize=title_size)\n",
    "plt.show()"
   ]
  }
 ],
 "metadata": {
  "kernelspec": {
   "display_name": "Python 3 (ipykernel)",
   "language": "python",
   "name": "python3"
  },
  "language_info": {
   "codemirror_mode": {
    "name": "ipython",
    "version": 3
   },
   "file_extension": ".py",
   "mimetype": "text/x-python",
   "name": "python",
   "nbconvert_exporter": "python",
   "pygments_lexer": "ipython3",
   "version": "3.9.7"
  }
 },
 "nbformat": 4,
 "nbformat_minor": 4
}
