{
 "cells": [
  {
   "cell_type": "markdown",
   "metadata": {},
   "source": [
    "Proteomic and genomic analysis by tumor (including code for Supp. Fig. 3B)"
   ]
  },
  {
   "cell_type": "code",
   "execution_count": null,
   "metadata": {},
   "outputs": [],
   "source": [
    "import numpy as np\n",
    "import matplotlib\n",
    "import matplotlib.pyplot as plt\n",
    "import seaborn as sns\n",
    "import pandas as pd\n",
    "import sklearn\n",
    "import random\n",
    "import glob\n",
    "import pyreadr\n",
    "from operator import itemgetter\n",
    "import itertools\n",
    "from itertools import groupby\n",
    "import seaborn as sns\n",
    "import matplotlib.ticker as ticker\n",
    "import sys\n",
    "import scipy.stats  as stats\n",
    "pd.set_option('display.max_columns', None)\n",
    "from sklearn.preprocessing import MinMaxScaler\n",
    "scaler = MinMaxScaler()\n",
    "from statsmodels.stats import multitest"
   ]
  },
  {
   "cell_type": "code",
   "execution_count": null,
   "metadata": {},
   "outputs": [],
   "source": [
    "tumor_roi_dat = pd.read_csv('new_annotation_Feb2021_KW.txt', delimiter = \"\\t\")\n",
    "protein_dat=pd.read_csv('ERCC_IgG_norm.csv')\n",
    "nuc_count = pd.read_csv('nuc_count.csv')\n",
    "\n",
    "protein_dat=protein_dat.rename({'Unnamed: 0': 'Protein'}, axis=1) \n",
    "\n",
    "all_rois=list(protein_dat.columns)[1:]\n",
    "\n",
    "tumor_core_roi_dict={}\n",
    "excluded_rois=[]\n",
    "for loc in range(len(tumor_roi_dat)):\n",
    "    cur_row = tumor_roi_dat.iloc[loc]\n",
    "    roi = cur_row['ROI']\n",
    "    roi_num=roi.split('_')[1]\n",
    "    if len(roi_num)==1:\n",
    "        roi = 'ROI_0'+roi_num\n",
    "    #print(cur_row)\n",
    "    if roi in all_rois:\n",
    "        key = (cur_row['Tumor_ID'],cur_row['Core_ID'])\n",
    "        if key[0]==21 or key[0]==8:\n",
    "            excluded_rois.append(roi)\n",
    "        else:\n",
    "            if key in tumor_core_roi_dict:\n",
    "                tumor_core_roi_dict[key].append(roi)\n",
    "            else:\n",
    "                tumor_core_roi_dict[key] = [roi]            \n",
    "\n",
    "\n",
    "tumor_ids=list(tumor_roi_dat['Tumor_ID'])\n",
    "core_ids=list(tumor_roi_dat['Core_ID'])\n",
    "fish_cores=list(tumor_roi_dat['FISH_core'])\n",
    "\n",
    "tumor_core_to_shreya_base={(tumor_ids[i],core_ids[i]):fish_cores[i] for i in range(len(tumor_roi_dat))}\n",
    "tumor_core_to_shreya={}\n",
    "for k,v in tumor_core_to_shreya_base.items():\n",
    "    if k in tumor_core_roi_dict.keys():\n",
    "        tumor_core_to_shreya[k]=v\n",
    "all_proteins_cores_shreya=list(tumor_core_to_shreya.values())\n",
    "\n",
    "tumor_roi_dict={}\n",
    "for k, rois in tumor_core_roi_dict.items():\n",
    "    tumor=k[0]\n",
    "    if tumor in tumor_roi_dict.keys():\n",
    "        tumor_roi_dict[tumor]=tumor_roi_dict[tumor]+rois\n",
    "    else:\n",
    "        tumor_roi_dict[tumor]=rois\n",
    "            \n",
    "nuc_count=nuc_count.rename({'Unnamed: 0': 'ROI'}, axis=1) \n",
    "\n",
    "tumor_protein_dfs=[]\n",
    "for tumor,rois in tumor_roi_dict.items():\n",
    "    cur_df=protein_dat[rois]\n",
    "    cur_df.index=protein_dat['Protein']\n",
    "    tot_nuc_count=nuc_count[nuc_count['ROI'].isin(protein_dat[rois])]['nuclei_count'].sum()\n",
    "    for roi in rois:\n",
    "        cur_weight=list(nuc_count[nuc_count['ROI']==roi]['nuclei_count'])[0]/tot_nuc_count\n",
    "        cur_df[roi]=cur_df[roi]*cur_weight \n",
    "    cur_df_tumor=cur_df.sum(axis=1).to_frame().rename(columns={0:tumor})\n",
    "    tumor_protein_dfs.append(cur_df_tumor)\n",
    "protein_dat_by_tumor=pd.concat(tumor_protein_dfs,1)\n",
    "\n",
    "protein_dat_by_tumor=protein_dat_by_tumor.T"
   ]
  },
  {
   "cell_type": "code",
   "execution_count": null,
   "metadata": {},
   "outputs": [],
   "source": [
    "filenames = glob.glob(\"FISH_data/table*\")\n",
    "dfs_o = {}\n",
    "for filename in filenames:\n",
    "    df_o = pd.read_csv(filename)\n",
    "    shreya_core_num = int(filename.split('_')[2])\n",
    "    image_num = int(filename.split('_')[3].split('.')[0])\n",
    "    dfs_o[(shreya_core_num,image_num)]=df_o\n",
    "\n",
    "    \n",
    "HI=6\n",
    "MAX_HI = 50\n",
    "\n",
    "def geno_hi(geno,df):\n",
    "    return (df[geno]>=HI)&(df[geno]<=MAX_HI)\n",
    "def geno_lo(geno,df):\n",
    "    return (df[geno]>=1)&(df[geno]<HI)\n",
    "\n",
    "for df_fish in list(dfs_o.values()):\n",
    "    df_fish['EGFR_amp']=1*(geno_hi('EGFR',df_fish))\n",
    "    df_fish['PDGFRA_amp']=1*(geno_hi('PDGFRA',df_fish))\n",
    "    df_fish['CDK4_amp']=1*(geno_hi('CDK4',df_fish))\n",
    "    \n",
    "dfs={}    \n",
    "for key,df in dfs_o.items():\n",
    "        \n",
    "    if key[0] not in tumor_core_to_shreya.values():\n",
    "        continue\n",
    "\n",
    "    \n",
    "    df['EGFR_CDK4_amp']=1*((df['EGFR']>=HI)&(df['CDK4']>=HI))\n",
    "    df['EGFR_NOT_CDK4_amp']=1*((df['EGFR']>=HI)&(df['CDK4']<HI))\n",
    "    df['CDK4_NOT_EGFR_amp']=1*((df['CDK4']>=HI)&(df['EGFR']<HI))\n",
    "    \n",
    "    df['Non_amp']=1*((df['EGFR']<HI)&(df['CDK4']<HI))\n",
    "    \n",
    "    dfs[key]=df[(df['EGFR']<=MAX_HI)&(df['PDGFRA']<=MAX_HI)&(df['CDK4']<=MAX_HI)]\n",
    "\n",
    "        \n",
    "shreya_to_tumor={v:k[0] for k,v in tumor_core_to_shreya.items()}\n",
    "core_list=list(set([item[0] for item in dfs.keys()]))\n",
    "tumor_list = list(set([shreya_to_tumor[core] for core in core_list]))\n",
    "\n",
    "tumor_image_dict={}\n",
    "for k in dfs.keys():\n",
    "    this_tumor=shreya_to_tumor[k[0]]\n",
    "    if this_tumor in tumor_image_dict.keys():\n",
    "        tumor_image_dict[this_tumor]=tumor_image_dict[this_tumor]+[k]\n",
    "    else:\n",
    "        tumor_image_dict[this_tumor]=[k]\n",
    "        \n",
    "dfs_in_tumor={}\n",
    "for tumor, images in tumor_image_dict.items():\n",
    "    dfs_in_tumor[tumor]=pd.concat([dfs[image] for image in images])"
   ]
  },
  {
   "cell_type": "code",
   "execution_count": null,
   "metadata": {},
   "outputs": [],
   "source": [
    "tumor_props_dict={}\n",
    "for tumor in tumor_list:\n",
    "    this_df=dfs_in_tumor[tumor]\n",
    "    E_only=len(this_df[this_df['EGFR_NOT_CDK4_amp']==1])/len(this_df)\n",
    "    C_only=len(this_df[this_df['CDK4_NOT_EGFR_amp']==1])/len(this_df)\n",
    "    dual=len(this_df[this_df['EGFR_CDK4_amp']==1])/len(this_df)\n",
    "    Non_amp=len(this_df[this_df['Non_amp']==1])/len(this_df)\n",
    "    tumor_props_dict[tumor]=[E_only,C_only,dual,Non_amp]"
   ]
  },
  {
   "cell_type": "code",
   "execution_count": null,
   "metadata": {},
   "outputs": [],
   "source": [
    "amp_prop_df=pd.DataFrame.from_dict(tumor_props_dict,orient='index').rename(columns={0:'E_only',1:'C_only',2:'E_C',3:'None'})"
   ]
  },
  {
   "cell_type": "code",
   "execution_count": null,
   "metadata": {},
   "outputs": [],
   "source": [
    "pd.concat([amp_prop_df,protein_dat_by_tumor],1).corr()"
   ]
  },
  {
   "cell_type": "code",
   "execution_count": null,
   "metadata": {},
   "outputs": [],
   "source": [
    "def arr_to_1d_lis(arr):\n",
    "    return list(itertools.chain(*list(arr)))\n",
    "def list_to_arr(lst,length):\n",
    "    return [lst[x:x+length] for x in range(0, len(lst), length)]\n",
    "def p_value_adjustment(p_results):\n",
    "    pvals1D=arr_to_1d_lis(p_results.to_numpy())\n",
    "    adj_p=multitest.fdrcorrection(pvals1D)[1]\n",
    "    p_results_adj=pd.DataFrame(list_to_arr(adj_p,len(p_results.columns)))\n",
    "    p_results_adj=p_results_adj.set_index(p_results.index)\n",
    "    p_results_adj=p_results_adj.rename(columns={list(p_results_adj.columns)[i]:list(p_results.columns)[i] for i in range(len(p_results.columns))})\n",
    "    return p_results_adj\n",
    "def get_stats():\n",
    "    #geno_cols=['EGFR_only_amp','CDK4_only_amp','Dual_amp']#,'No_amp']\n",
    "    df_dict={col:np.nan for col in ['None']}\n",
    "    protein_list=list(protein_dat_by_tumor.columns)\n",
    "    df_dict['Proteins']=protein_list\n",
    "    coeff_results=pd.DataFrame.from_dict(df_dict).set_index('Proteins')\n",
    "    pval_results=pd.DataFrame.from_dict(df_dict).set_index('Proteins')    \n",
    "    for prot in protein_list:\n",
    "        [coeff,pval]=list(stats.spearmanr(list(amp_prop_df['None']),list(protein_dat_by_tumor[prot])))\n",
    "        coeff_results.loc[prot,'None']=coeff\n",
    "        pval_results.loc[prot,'None']=pval\n",
    "    adj_p=p_value_adjustment(pval_results)\n",
    "    return coeff_results,pval_results,adj_p\n",
    "    #return coeff_results,pval_results"
   ]
  },
  {
   "cell_type": "code",
   "execution_count": null,
   "metadata": {},
   "outputs": [],
   "source": [
    "spearman_NA,pNA,adjp_NA=get_stats()"
   ]
  },
  {
   "cell_type": "code",
   "execution_count": null,
   "metadata": {},
   "outputs": [],
   "source": [
    "pNA.sort_values(by='None')"
   ]
  },
  {
   "cell_type": "code",
   "execution_count": null,
   "metadata": {},
   "outputs": [],
   "source": [
    "adjp_NA.sort_values(by='None')"
   ]
  },
  {
   "cell_type": "code",
   "execution_count": null,
   "metadata": {},
   "outputs": [],
   "source": [
    "df_results=pd.concat([spearman_NA.rename(columns={'None':'Spearman correlation'}),adjp_NA.rename(columns={'None':'Adjusted p-value'})],1)"
   ]
  },
  {
   "cell_type": "code",
   "execution_count": null,
   "metadata": {},
   "outputs": [],
   "source": [
    "df_results['-log(adj. p-value)']=-np.log(df_results['Adjusted p-value'])"
   ]
  },
  {
   "cell_type": "code",
   "execution_count": null,
   "metadata": {},
   "outputs": [],
   "source": [
    "df_results=df_results.sort_values(by='Spearman correlation',ascending=False)"
   ]
  },
  {
   "cell_type": "code",
   "execution_count": null,
   "metadata": {},
   "outputs": [],
   "source": [
    "top_bot_prots=pd.concat([df_results.head(5),df_results.tail(5)])\n",
    "top_bot_prots['Protein']=top_bot_prots.index"
   ]
  },
  {
   "cell_type": "code",
   "execution_count": null,
   "metadata": {},
   "outputs": [],
   "source": [
    "plt.rcParams[\"font.size\"] = 14\n",
    "plt.rcParams[\"font.family\"] = 'Arial'\n",
    "fig = plt.figure(figsize=(14,6))\n",
    "g=sns.relplot(x=\"Protein\", y=\"Spearman correlation\", data=top_bot_prots, size='-log(adj. p-value)',color='black',sizes=(50, 500), aspect=1.5)\n",
    "plt.xticks(rotation=90)\n",
    "plt.grid(color='lightgray')\n",
    "leg = g._legend\n",
    "for t in leg.texts:\n",
    "    # truncate label text to 4 characters\n",
    "    t.set_text(t.get_text()[:4])\n",
    "#plt.tight_layout()\n",
    "#plt.savefig('prot_correlation_with_NA_tumor_wise.pdf')\n",
    "plt.show()"
   ]
  },
  {
   "cell_type": "code",
   "execution_count": null,
   "metadata": {},
   "outputs": [],
   "source": [
    "spearman_NA.loc['Olig2']"
   ]
  },
  {
   "cell_type": "code",
   "execution_count": null,
   "metadata": {},
   "outputs": [],
   "source": [
    "spearman_NA.loc['EGFR']"
   ]
  },
  {
   "cell_type": "code",
   "execution_count": null,
   "metadata": {},
   "outputs": [],
   "source": [
    "spearman_NA.loc['Sox2']"
   ]
  },
  {
   "cell_type": "code",
   "execution_count": null,
   "metadata": {},
   "outputs": [],
   "source": [
    "NA_prot_correlations={}\n",
    "for prot in protein_dat_by_tumor_rescaled.columns:\n",
    "    NA_prot_correlations[prot]=stats.spearmanr(list(protein_dat_by_tumor[prot]),list(amp_prop_df['None']))"
   ]
  },
  {
   "cell_type": "code",
   "execution_count": null,
   "metadata": {},
   "outputs": [],
   "source": [
    "NA_prot_cor_df=pd.DataFrame.from_dict(NA_prot_correlations,orient='index').sort_values(by='correlation',ascending=False)\n",
    "NA_prot_cor_df['Protein']=NA_prot_cor_df.index\n",
    "NA_prot_cor_df=NA_prot_cor_df.rename(columns={'correlation':'Spearman correlation'})\n",
    "top_bot_prots=pd.concat([NA_prot_cor_df.head(5),NA_prot_cor_df.tail(10)])\n",
    "top_bot_prots['-log(p-value)']=-np.log(top_bot_prots['pvalue'])"
   ]
  }
 ],
 "metadata": {
  "kernelspec": {
   "display_name": "Python 3 (ipykernel)",
   "language": "python",
   "name": "python3"
  },
  "language_info": {
   "codemirror_mode": {
    "name": "ipython",
    "version": 3
   },
   "file_extension": ".py",
   "mimetype": "text/x-python",
   "name": "python",
   "nbconvert_exporter": "python",
   "pygments_lexer": "ipython3",
   "version": "3.9.7"
  }
 },
 "nbformat": 4,
 "nbformat_minor": 4
}
