{
 "cells": [
  {
   "cell_type": "markdown",
   "metadata": {},
   "source": [
    "Survival analysis for TCGA data (including code for Fig. 5E)"
   ]
  },
  {
   "cell_type": "code",
   "execution_count": null,
   "metadata": {},
   "outputs": [],
   "source": [
    "import numpy as np\n",
    "import matplotlib\n",
    "import matplotlib.pyplot as plt\n",
    "import pandas as pd\n",
    "import scipy.stats  as stats\n",
    "pd.set_option('display.max_columns', None)\n",
    "from lifelines import KaplanMeierFitter\n",
    "from lifelines.statistics import logrank_test\n",
    "from lifelines import CoxPHFitter\n"
   ]
  },
  {
   "cell_type": "code",
   "execution_count": null,
   "metadata": {},
   "outputs": [],
   "source": [
    "CD163_dat=pd.read_csv('CD163__mRNA_expression_(U133_microarray_only).txt',sep='\\t').drop(['Study ID'],1).dropna()\n",
    "included_patients=list(set(list(CD163_dat['Patient ID'])))"
   ]
  },
  {
   "cell_type": "code",
   "execution_count": null,
   "metadata": {},
   "outputs": [],
   "source": [
    "clinical_dat=pd.read_csv('gbm_tcga_clinical_data.tsv',sep='\\t')"
   ]
  },
  {
   "cell_type": "code",
   "execution_count": null,
   "metadata": {},
   "outputs": [],
   "source": [
    "clinical_dat=clinical_dat[clinical_dat['Patient ID'].isin(included_patients)][['Patient ID','Diagnosis Age','Sex','Disease Free (Months)','Disease Free Status','Overall Survival (Months)','Overall Survival Status']]"
   ]
  },
  {
   "cell_type": "code",
   "execution_count": null,
   "metadata": {},
   "outputs": [],
   "source": [
    "IDH_mut_tumor_dat=pd.read_csv('gbm_tcga_clinical_data_only_IDH_mut.tsv',sep='\\t')"
   ]
  },
  {
   "cell_type": "code",
   "execution_count": null,
   "metadata": {},
   "outputs": [],
   "source": [
    "IDH_mut_tumors=list(IDH_mut_tumor_dat['Patient ID'])"
   ]
  },
  {
   "cell_type": "code",
   "execution_count": null,
   "metadata": {},
   "outputs": [],
   "source": [
    "len(clinical_dat)"
   ]
  },
  {
   "cell_type": "code",
   "execution_count": null,
   "metadata": {},
   "outputs": [],
   "source": [
    "len(CD163_dat)"
   ]
  },
  {
   "cell_type": "code",
   "execution_count": null,
   "metadata": {},
   "outputs": [],
   "source": [
    "len(included_patients)"
   ]
  },
  {
   "cell_type": "code",
   "execution_count": null,
   "metadata": {},
   "outputs": [],
   "source": [
    "len(CD163_dat['Patient ID'].unique())"
   ]
  },
  {
   "cell_type": "code",
   "execution_count": null,
   "metadata": {},
   "outputs": [],
   "source": [
    "mRNA_dat=CD163_dat.rename(columns={'CD163: mRNA expression (U133 microarray only)':'CD163'}).set_index('Patient ID').drop(['Sample ID'],1)\n",
    "mRNA_dat['Patient ID']=mRNA_dat.index\n",
    "mRNA_dat=mRNA_dat.reset_index(level=0, drop=True).reset_index().drop(['index'],1)"
   ]
  },
  {
   "cell_type": "code",
   "execution_count": null,
   "metadata": {},
   "outputs": [],
   "source": [
    "survival_dat=pd.read_csv('KM_Plot__Overall_Survival__(months).txt',sep='\\t').drop(['Study ID'],1)"
   ]
  },
  {
   "cell_type": "code",
   "execution_count": null,
   "metadata": {},
   "outputs": [],
   "source": [
    "clinical_dat['Male']=1*(clinical_dat['Sex']=='Male')\n",
    "clinical_dat=clinical_dat.drop(['Sex'],1)"
   ]
  },
  {
   "cell_type": "code",
   "execution_count": null,
   "metadata": {},
   "outputs": [],
   "source": [
    "combined_df=clinical_dat.merge(mRNA_dat,how='inner',on='Patient ID')"
   ]
  },
  {
   "cell_type": "code",
   "execution_count": null,
   "metadata": {},
   "outputs": [],
   "source": [
    "len(IDH_mut_tumors)"
   ]
  },
  {
   "cell_type": "code",
   "execution_count": null,
   "metadata": {},
   "outputs": [],
   "source": [
    "included_tumors=list(set(list(combined_df['Patient ID'])).difference(IDH_mut_tumors))"
   ]
  },
  {
   "cell_type": "code",
   "execution_count": null,
   "metadata": {},
   "outputs": [],
   "source": [
    "len(included_tumors)"
   ]
  },
  {
   "cell_type": "code",
   "execution_count": null,
   "metadata": {},
   "outputs": [],
   "source": [
    "len(combined_df)"
   ]
  },
  {
   "cell_type": "code",
   "execution_count": null,
   "metadata": {},
   "outputs": [],
   "source": [
    "combined_df=combined_df[combined_df['Patient ID'].isin(included_tumors)]"
   ]
  },
  {
   "cell_type": "code",
   "execution_count": null,
   "metadata": {},
   "outputs": [],
   "source": [
    "combined_df=combined_df.rename(columns={'Patient ID':'case_id','Overall Survival Status':'status','Overall Survival (Months)':'last_observation'})\n",
    "combined_df=combined_df.replace({'1:DECEASED':1,'0:LIVING':0})"
   ]
  },
  {
   "cell_type": "code",
   "execution_count": null,
   "metadata": {},
   "outputs": [],
   "source": [
    "combined_df=combined_df[['case_id','Diagnosis Age','last_observation','status','Male','CD163']]\n",
    "combined_df=combined_df.rename(columns={'Diagnosis Age':'Age'})"
   ]
  },
  {
   "cell_type": "code",
   "execution_count": null,
   "metadata": {},
   "outputs": [],
   "source": [
    "combined_df=combined_df.dropna()"
   ]
  },
  {
   "cell_type": "code",
   "execution_count": null,
   "metadata": {},
   "outputs": [],
   "source": [
    "len(combined_df)"
   ]
  },
  {
   "cell_type": "code",
   "execution_count": null,
   "metadata": {},
   "outputs": [],
   "source": [
    "df_combined=combined_df.copy()\n",
    "kmf = KaplanMeierFitter()"
   ]
  },
  {
   "cell_type": "code",
   "execution_count": null,
   "metadata": {},
   "outputs": [],
   "source": [
    "cph = CoxPHFitter()\n",
    "def clean_cph_table(this_df):\n",
    "    return this_df[['exp(coef)','exp(coef) lower 95%','exp(coef) upper 95%','p']]\n",
    "def get_survival_stats_sets(cur_set1,cur_set2):\n",
    "    this_df=df_combined[df_combined['case_id'].isin(cur_set1+cur_set2)]\n",
    "    this_df['in_group']=1*(this_df['case_id'].isin(cur_set1))\n",
    "    cph.fit(this_df, duration_col='last_observation', event_col='status', formula=\"in_group+Male+Age\")\n",
    "    return clean_cph_table(cph.summary)\n",
    "def format_stats(tab):\n",
    "    HR=tab['exp(coef)']['in_group']\n",
    "    HR_lo=tab['exp(coef) lower 95%']['in_group']\n",
    "    HR_hi=tab['exp(coef) upper 95%']['in_group']\n",
    "    p_val=tab['p']['in_group']\n",
    "    return 'Cox HR = %.2f'%HR+ ' [%.2f'%HR_lo+',%.2f'%HR_hi+'],\\n                 p = %.3f'%p_val\n",
    "\n",
    "def show_survival_curves(tumors1,name1,color1,tumors2,name2,color2,cox_stats,fname):\n",
    "    df1=df_combined[df_combined['case_id'].isin(tumors1)]\n",
    "\n",
    "    df2=df_combined[df_combined['case_id'].isin(tumors2)]\n",
    "    \n",
    "\n",
    "    fig, ax = plt.subplots(figsize=(12, 10))\n",
    "\n",
    "\n",
    "    df_base = df1.dropna()\n",
    "    df_base_name=name1\n",
    "    df2 = df2.dropna()\n",
    "    df2_name=name2\n",
    "\n",
    "    lr_result2=logrank_test(df_base['last_observation'], df2['last_observation'], event_observed_A=df_base['status'], event_observed_B=df2['status'])\n",
    "    pval2=lr_result2.p_value\n",
    "    plt.rcParams[\"font.size\"] = 30\n",
    "    plt.rcParams[\"font.family\"] = 'Arial'\n",
    "    kmf.fit(df_base['last_observation'],df_base['status'],label=df_base_name).plot_survival_function(ax=ax,color=color1)\n",
    "    kmf.fit(df2['last_observation'],df2['status'],label=df2_name).plot_survival_function(ax=ax,color=color2)\n",
    "    plt.xlabel('Days',fontsize=30)\n",
    "    plt.ylabel('Proportion Survived',fontsize=30)\n",
    "    plt.legend()\n",
    "    plt.title('Effect of CD163 mRNA expression on survival',fontsize=30)\n",
    "    plt.text(48,0.6,'Log-rank p ='+'{:.3f}'.format(pval2)+'\\n'+cox_stats,fontsize=28)\n",
    "    plt.setp(ax.artists, edgecolor = 'black')\n",
    "    plt.setp(ax.lines, color='black')\n",
    "    for axis in ['top','bottom','left','right']:\n",
    "        ax.spines[axis].set_linewidth(1.2)\n",
    "    plt.tight_layout()\n",
    "    #plt.savefig(fname)\n",
    "    plt.show()"
   ]
  },
  {
   "cell_type": "code",
   "execution_count": null,
   "metadata": {},
   "outputs": [],
   "source": [
    "q_los=[1/3,1/4,1/5,1/2-0.001]\n",
    "q_his=[2/3,3/4,4/5,1/2+0.001]\n",
    "ind=0\n",
    "q_lo=q_los[ind]\n",
    "q_hi=q_his[ind]\n",
    "prot='CD163'\n",
    "\n",
    "quants=df_combined[prot].quantile([q_lo,q_hi])\n",
    "lo_thresh=quants[q_lo]\n",
    "hi_thresh=quants[q_hi]\n",
    "lo_CD163_tumors=list(df_combined[df_combined[prot]<lo_thresh]['case_id'])\n",
    "hi_CD163_tumors=list(df_combined[df_combined[prot]>=hi_thresh]['case_id'])\n",
    "tab=get_survival_stats_sets(hi_CD163_tumors,lo_CD163_tumors)\n",
    "c_stats=format_stats(tab)\n",
    "t1=hi_CD163_tumors\n",
    "n1='Expression in top 1/3'\n",
    "c1='green'\n",
    "t2=lo_CD163_tumors\n",
    "n2='Expression in bottom 1/3'\n",
    "c2='black'\n",
    "show_survival_curves(t1,n1,c1,t2,n2,c2,c_stats,'TCGA_top_bot_tertiles_exclude_IDH_mut.pdf')"
   ]
  },
  {
   "cell_type": "code",
   "execution_count": null,
   "metadata": {},
   "outputs": [],
   "source": []
  }
 ],
 "metadata": {
  "kernelspec": {
   "display_name": "Python 3 (ipykernel)",
   "language": "python",
   "name": "python3"
  },
  "language_info": {
   "codemirror_mode": {
    "name": "ipython",
    "version": 3
   },
   "file_extension": ".py",
   "mimetype": "text/x-python",
   "name": "python",
   "nbconvert_exporter": "python",
   "pygments_lexer": "ipython3",
   "version": "3.9.7"
  }
 },
 "nbformat": 4,
 "nbformat_minor": 4
}
