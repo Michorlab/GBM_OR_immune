{
 "cells": [
  {
   "cell_type": "markdown",
   "metadata": {},
   "source": [
    "Analysis of correlations in geomx data (including code for Fig. 2c)"
   ]
  },
  {
   "cell_type": "code",
   "execution_count": null,
   "metadata": {},
   "outputs": [],
   "source": [
    "import numpy as np\n",
    "import matplotlib\n",
    "import matplotlib.pyplot as plt\n",
    "import seaborn as sns\n",
    "import pandas as pd\n",
    "import sklearn\n",
    "import random\n",
    "import glob\n",
    "import pyreadr\n",
    "from operator import itemgetter\n",
    "import itertools\n",
    "from itertools import groupby\n",
    "import seaborn as sns\n",
    "import matplotlib.ticker as ticker\n",
    "import sys\n",
    "import scipy.stats  as stats\n",
    "pd.set_option('display.max_columns', None)\n",
    "from sklearn.preprocessing import MinMaxScaler\n",
    "scaler = MinMaxScaler()"
   ]
  },
  {
   "cell_type": "code",
   "execution_count": null,
   "metadata": {},
   "outputs": [],
   "source": [
    "#Preprocess geomx data\n",
    "\n",
    "tumor_roi_dat = pd.read_csv('new_annotation_Feb2021_KW.txt', delimiter = \"\\t\")\n",
    "protein_dat=pd.read_csv('ERCC_IgG_norm.csv')\n",
    "nuc_count = pd.read_csv('nuc_count.csv')\n",
    "\n",
    "protein_dat=protein_dat.rename({'Unnamed: 0': 'Protein'}, axis=1) \n",
    "\n",
    "all_rois=list(protein_dat.columns)[1:]\n",
    "\n",
    "tumor_core_roi_dict={}\n",
    "excluded_rois=[]\n",
    "for loc in range(len(tumor_roi_dat)):\n",
    "    cur_row = tumor_roi_dat.iloc[loc]\n",
    "    roi = cur_row['ROI']\n",
    "    roi_num=roi.split('_')[1]\n",
    "    if len(roi_num)==1:\n",
    "        roi = 'ROI_0'+roi_num\n",
    "    #print(cur_row)\n",
    "    if roi in all_rois:\n",
    "        key = (cur_row['Tumor_ID'],cur_row['Core_ID'])\n",
    "        if key[0]==21 or key[0]==8:\n",
    "            excluded_rois.append(roi)\n",
    "        else:\n",
    "            if key in tumor_core_roi_dict:\n",
    "                tumor_core_roi_dict[key].append(roi)\n",
    "            else:\n",
    "                tumor_core_roi_dict[key] = [roi]            \n",
    "\n",
    "\n",
    "tumor_ids=list(tumor_roi_dat['Tumor_ID'])\n",
    "core_ids=list(tumor_roi_dat['Core_ID'])\n",
    "fish_cores=list(tumor_roi_dat['FISH_core'])\n",
    "\n",
    "tumor_core_to_shreya_base={(tumor_ids[i],core_ids[i]):fish_cores[i] for i in range(len(tumor_roi_dat))}\n",
    "tumor_core_to_shreya={}\n",
    "for k,v in tumor_core_to_shreya_base.items():\n",
    "    if k in tumor_core_roi_dict.keys():\n",
    "        tumor_core_to_shreya[k]=v\n",
    "all_proteins_cores_shreya=list(tumor_core_to_shreya.values())\n",
    "\n",
    "tumor_roi_dict={}\n",
    "for k, rois in tumor_core_roi_dict.items():\n",
    "    tumor=k[0]\n",
    "    if tumor in tumor_roi_dict.keys():\n",
    "        tumor_roi_dict[tumor]=tumor_roi_dict[tumor]+rois\n",
    "    else:\n",
    "        tumor_roi_dict[tumor]=rois\n",
    "            \n",
    "nuc_count=nuc_count.rename({'Unnamed: 0': 'ROI'}, axis=1) \n",
    "\n",
    "tumor_protein_dfs=[]\n",
    "for tumor,rois in tumor_roi_dict.items():\n",
    "    cur_df=protein_dat[rois]\n",
    "    cur_df.index=protein_dat['Protein']\n",
    "    tot_nuc_count=nuc_count[nuc_count['ROI'].isin(protein_dat[rois])]['nuclei_count'].sum()\n",
    "    for roi in rois:\n",
    "        cur_weight=list(nuc_count[nuc_count['ROI']==roi]['nuclei_count'])[0]/tot_nuc_count\n",
    "        cur_df[roi]=cur_df[roi]*cur_weight \n",
    "    cur_df=cur_df.sum(axis=1).to_frame().rename(columns={0:tumor})\n",
    "    tumor_protein_dfs.append(cur_df)\n",
    "protein_dat_by_tumor=pd.concat(tumor_protein_dfs,1)\n",
    "\n",
    "protein_dat_by_tumor=protein_dat_by_tumor.T\n",
    "\n",
    "protein_dat_by_tumor_rescaled = pd.DataFrame(scaler.fit_transform(protein_dat_by_tumor), columns=protein_dat_by_tumor.columns)\n",
    "protein_dat_by_tumor_rescaled.index=protein_dat_by_tumor.index"
   ]
  },
  {
   "cell_type": "code",
   "execution_count": null,
   "metadata": {},
   "outputs": [],
   "source": [
    "#save for subsequent analysis in R\n",
    "protein_dat_by_tumor.to_csv('proteins_by_tumor_for_corr_clustering.csv')"
   ]
  },
  {
   "cell_type": "code",
   "execution_count": null,
   "metadata": {},
   "outputs": [],
   "source": [
    "\"\"\"\n",
    "R code for generating correlation matrix plot:\n",
    "\n",
    "> dat<-read.csv('proteins_by_tumor_for_corr_clustering.csv',header=TRUE, row.names=\"X\")\n",
    "> M<-cor(dat,method=\"spearman\")\n",
    "> library(corrplot)\n",
    "> pdf('corplot_all_proteins_by_tumor.pdf')\n",
    "> corrplot(M, type = \"upper\",order = \"hclust\",cl.lim=c(-1,1), col=colorRampPalette(c(rev(brewer.pal(n=11,name = \"RdBu\"))))(200),tl.cex = 0.3,tl.col=\"black\")\n",
    "> dev.off()\n",
    "\n",
    "R code for obtaining spearman correlations and performing p-value adjustment:\n",
    "\n",
    "> cormat=rcorr(as.matrix(dat),type=\"spearman\")\n",
    "> spearman_mat=cormat$r\n",
    "> write.csv(spearman_mat,'cormat_from_proteins_by_tumor_spearman_coefficients.csv')\n",
    "> pval_mat=cormat$P\n",
    "> write.csv(pval_mat,'cormat_from_proteins_by_tumor_pvals.csv')\n",
    "> pval_mat2<-pval_mat\n",
    "> pval_mat2[]<-p.adjust(pval_mat2, method = \"fdr\")\n",
    "> write.csv(pval_mat,'cormat_from_proteins_by_tumor_pvals_adj_fdr.csv')\n",
    "\"\"\""
   ]
  },
  {
   "cell_type": "code",
   "execution_count": null,
   "metadata": {},
   "outputs": [],
   "source": [
    "prots_spearman=pd.read_csv('cormat_from_proteins_by_tumor_spearman_coefficients.csv')\n",
    "prots_pvals=pd.read_csv('cormat_from_proteins_by_tumor_pvals.csv')\n",
    "prots_pvals_adj=pd.read_csv('cormat_from_proteins_by_tumor_pvals_adj_fdr.csv')\n",
    "\n",
    "prots_spearman.index=prots_spearman['Unnamed: 0']\n",
    "prots_pvals.index=prots_pvals['Unnamed: 0']\n",
    "prots_pvals_adj.index=prots_pvals_adj['Unnamed: 0']"
   ]
  },
  {
   "cell_type": "code",
   "execution_count": null,
   "metadata": {},
   "outputs": [],
   "source": [
    "def get_stats(prot1,prot2):\n",
    "    print('Coeff = ',prots_spearman.loc[prot1,prot2])\n",
    "    print('Adj. p-val',prots_pvals_adj.loc[prot1,prot2])"
   ]
  },
  {
   "cell_type": "code",
   "execution_count": null,
   "metadata": {},
   "outputs": [],
   "source": [
    "get_stats('EGFR','CD163')"
   ]
  },
  {
   "cell_type": "code",
   "execution_count": null,
   "metadata": {},
   "outputs": [],
   "source": [
    "prots_pvals.loc['CD68','Park5']"
   ]
  },
  {
   "cell_type": "code",
   "execution_count": null,
   "metadata": {},
   "outputs": [],
   "source": [
    "get_stats('CD68','SYP')"
   ]
  },
  {
   "cell_type": "code",
   "execution_count": null,
   "metadata": {},
   "outputs": [],
   "source": [
    "get_stats('CD68','SNCA_filament')"
   ]
  },
  {
   "cell_type": "code",
   "execution_count": null,
   "metadata": {},
   "outputs": [],
   "source": [
    "get_stats('CD68','MBP')"
   ]
  },
  {
   "cell_type": "code",
   "execution_count": null,
   "metadata": {},
   "outputs": [],
   "source": [
    "get_stats('CD11b','SYP')"
   ]
  },
  {
   "cell_type": "code",
   "execution_count": null,
   "metadata": {},
   "outputs": [],
   "source": [
    "get_stats('CD11b','MBP')"
   ]
  },
  {
   "cell_type": "code",
   "execution_count": null,
   "metadata": {},
   "outputs": [],
   "source": [
    "get_stats('CD11b','SNCA_filament')"
   ]
  },
  {
   "cell_type": "code",
   "execution_count": null,
   "metadata": {},
   "outputs": [],
   "source": [
    "get_stats('HLA.DR','SNCA_filament')"
   ]
  },
  {
   "cell_type": "code",
   "execution_count": null,
   "metadata": {},
   "outputs": [],
   "source": [
    "get_stats('HLA.DR','MBP')"
   ]
  },
  {
   "cell_type": "code",
   "execution_count": null,
   "metadata": {},
   "outputs": [],
   "source": [
    "get_stats('HLA.DR','SYP')"
   ]
  },
  {
   "cell_type": "code",
   "execution_count": null,
   "metadata": {},
   "outputs": [],
   "source": [
    "get_stats('Olig2','Sox2')"
   ]
  },
  {
   "cell_type": "code",
   "execution_count": null,
   "metadata": {},
   "outputs": [],
   "source": [
    "clus_neuronal= ['Park5','SNCA_filament','SYP','NRGN','P-TAU S404','TAU','P2RX7','NEFL','MBP','SIRT2']\n",
    "clus_neuronal= ['SNCA_filament','SYP','NRGN']\n",
    "clus_immune=['CD68','HLA-DR','CD11b','CD45','IBA1','CD163','CD14']"
   ]
  },
  {
   "cell_type": "code",
   "execution_count": null,
   "metadata": {},
   "outputs": [],
   "source": [
    "clus_immune_R=['CD68','HLA.DR','CD11b','CD45','IBA1','CD163','CD14']\n",
    "spears=[]\n",
    "for prot in clus_immune_R:\n",
    "    spears.append(prots_spearman.loc[prot,'SNCA_filament'])\n",
    "np.mean(spears)"
   ]
  },
  {
   "cell_type": "code",
   "execution_count": null,
   "metadata": {},
   "outputs": [],
   "source": [
    "clus_immune_R=['CD68','HLA.DR','CD11b','CD45','IBA1','CD163','CD14']\n",
    "clus_neuronal_R= ['Park5','SNCA_filament','SYP','NRGN','P.TAU.S404','TAU','P2RX7','NEFL','MBP','SIRT2']\n",
    "spears_dict={}\n",
    "for prot1 in clus_neuronal_R:\n",
    "    spears=[]\n",
    "    for prot2 in clus_immune_R:\n",
    "        spears.append(prots_spearman.loc[prot1,prot2])\n",
    "    spears_dict[prot1]=np.mean(spears)"
   ]
  },
  {
   "cell_type": "code",
   "execution_count": null,
   "metadata": {},
   "outputs": [],
   "source": [
    "spears_dict"
   ]
  },
  {
   "cell_type": "code",
   "execution_count": null,
   "metadata": {},
   "outputs": [],
   "source": [
    "clus_immune_R=['CD68','HLA.DR','CD11b','CD45','IBA1','CD163','CD14']\n",
    "for prot in clus_immune_R:\n",
    "    print('\\n',prot)\n",
    "    get_stats(prot,'SNCA_filament')"
   ]
  },
  {
   "cell_type": "code",
   "execution_count": null,
   "metadata": {},
   "outputs": [],
   "source": [
    "prots_spearman[clus_immune].loc[clus_immune]"
   ]
  },
  {
   "cell_type": "code",
   "execution_count": null,
   "metadata": {},
   "outputs": [],
   "source": [
    "clus1=['Olig2','Sox2','MAP2','ADAM10','BACE1','Neprilysin','P-TAU S396','P-TAU T231','P-tau S199','P-tau S214','IQGAP2','14-3-3','IDE','Beta-Catenin','PSEN1']\n",
    "clus1=['P-TAU S396','P-TAU T231','P-tau S199','P-tau S214','P-TAU S404']\n",
    "clus2=['Lef1','Tuj1','Rspo2','Satb2']\n",
    "clus2=['Lef1','Rspo2','Satb2']\n",
    "clus3=['CD68','HLA-DR','CD11b','CD45','IBA1','CD163','CD14']"
   ]
  },
  {
   "cell_type": "code",
   "execution_count": null,
   "metadata": {},
   "outputs": [],
   "source": [
    "cor_mat=protein_dat_by_tumor.corr(method='spearman')"
   ]
  },
  {
   "cell_type": "code",
   "execution_count": null,
   "metadata": {},
   "outputs": [],
   "source": [
    "clus_R=['P.tau.S214', 'P.TAU.S396', 'P.TAU.T231','P.tau.S199']\n",
    "clus_R=['EGFR','Olig2','Sox2']\n",
    "prots_spearman[clus_R].loc[clus_R]"
   ]
  },
  {
   "cell_type": "code",
   "execution_count": null,
   "metadata": {},
   "outputs": [],
   "source": [
    "clus=['P-tau S214','P-TAU S396','P-TAU T231','P-tau S199']\n",
    "cor=cor_mat[clus].loc[clus]\n",
    "cor.min()"
   ]
  },
  {
   "cell_type": "code",
   "execution_count": null,
   "metadata": {},
   "outputs": [],
   "source": [
    "clus=['EGFR','Olig2','Sox2']\n",
    "cor=cor_mat[clus].loc[clus]\n",
    "cor"
   ]
  },
  {
   "cell_type": "code",
   "execution_count": null,
   "metadata": {},
   "outputs": [],
   "source": [
    "prots_pvals_adj[clus].loc[clus]"
   ]
  },
  {
   "cell_type": "code",
   "execution_count": null,
   "metadata": {},
   "outputs": [],
   "source": [
    "clus_R=['CD163', 'IBA1', 'CD14','CD45','CD11b','HLA.DR','CD68']\n",
    "prots_spearman[clus_R].loc[clus_R]"
   ]
  },
  {
   "cell_type": "code",
   "execution_count": null,
   "metadata": {},
   "outputs": [],
   "source": [
    "clus_R=['CD163', 'IBA1', 'CD14','CD45','CD11b','HLA.DR','CD68']\n",
    "\n",
    "this_dict={}\n",
    "for k1,k2v in prots_spearman[clus_R].loc[clus_R].iteritems():\n",
    "    for k2,v in k2v.iteritems():\n",
    "        k1k2=list(set(sorted([k1,k2])))\n",
    "        key = tuple(tuple(k1k2))\n",
    "        if key not in this_dict.keys() and len(key)>1:\n",
    "            this_dict[key]=v"
   ]
  },
  {
   "cell_type": "code",
   "execution_count": null,
   "metadata": {},
   "outputs": [],
   "source": [
    "np.mean(list(this_dict.values()))"
   ]
  },
  {
   "cell_type": "code",
   "execution_count": null,
   "metadata": {},
   "outputs": [],
   "source": [
    "min(list(this_dict.values()))"
   ]
  },
  {
   "cell_type": "code",
   "execution_count": null,
   "metadata": {},
   "outputs": [],
   "source": [
    "max(list(this_dict.values()))"
   ]
  },
  {
   "cell_type": "code",
   "execution_count": null,
   "metadata": {},
   "outputs": [],
   "source": [
    "prots_pvals_adj[clus_R].loc[clus_R]"
   ]
  },
  {
   "cell_type": "code",
   "execution_count": null,
   "metadata": {},
   "outputs": [],
   "source": [
    "prots_pvals[clus_R].loc['EGFR']"
   ]
  },
  {
   "cell_type": "code",
   "execution_count": null,
   "metadata": {},
   "outputs": [],
   "source": [
    "prots_pvals_adj[clus_R].loc['EGFR']"
   ]
  },
  {
   "cell_type": "code",
   "execution_count": null,
   "metadata": {},
   "outputs": [],
   "source": [
    "np.mean(cor3.mean())"
   ]
  },
  {
   "cell_type": "code",
   "execution_count": null,
   "metadata": {},
   "outputs": [],
   "source": [
    "cor2=cor_mat[clus2].loc[clus2]\n",
    "cor2"
   ]
  },
  {
   "cell_type": "code",
   "execution_count": null,
   "metadata": {},
   "outputs": [],
   "source": [
    "np.mean(cor2.mean())"
   ]
  },
  {
   "cell_type": "code",
   "execution_count": null,
   "metadata": {},
   "outputs": [],
   "source": [
    "cor1=cor_mat[clus1].loc[clus1]\n",
    "cor1"
   ]
  },
  {
   "cell_type": "code",
   "execution_count": null,
   "metadata": {},
   "outputs": [],
   "source": [
    "np.mean(cor1.mean())"
   ]
  },
  {
   "cell_type": "code",
   "execution_count": null,
   "metadata": {},
   "outputs": [],
   "source": []
  }
 ],
 "metadata": {
  "kernelspec": {
   "display_name": "Python 3 (ipykernel)",
   "language": "python",
   "name": "python3"
  },
  "language_info": {
   "codemirror_mode": {
    "name": "ipython",
    "version": 3
   },
   "file_extension": ".py",
   "mimetype": "text/x-python",
   "name": "python",
   "nbconvert_exporter": "python",
   "pygments_lexer": "ipython3",
   "version": "3.9.7"
  }
 },
 "nbformat": 4,
 "nbformat_minor": 4
}
