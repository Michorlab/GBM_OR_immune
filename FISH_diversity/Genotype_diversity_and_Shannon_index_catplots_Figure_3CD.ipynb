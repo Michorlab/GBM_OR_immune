{
 "cells": [
  {
   "cell_type": "markdown",
   "metadata": {},
   "source": [
    "Genotype diversity analysis (including code for Figures 3C,D)"
   ]
  },
  {
   "cell_type": "code",
   "execution_count": null,
   "metadata": {},
   "outputs": [],
   "source": [
    "import numpy as np\n",
    "import matplotlib\n",
    "import matplotlib.pyplot as plt\n",
    "import seaborn as sns\n",
    "import pandas as pd\n",
    "import sklearn\n",
    "import random\n",
    "import glob\n",
    "from operator import itemgetter\n",
    "import itertools\n",
    "from itertools import groupby\n",
    "import seaborn as sns\n",
    "import matplotlib.ticker as ticker\n",
    "import sys\n",
    "import scipy.stats  as stats\n",
    "pd.set_option('display.max_columns', None)\n",
    "from sklearn.preprocessing import MinMaxScaler\n",
    "scaler = MinMaxScaler()"
   ]
  },
  {
   "cell_type": "code",
   "execution_count": null,
   "metadata": {},
   "outputs": [],
   "source": [
    "tumor_roi_dat = pd.read_csv('new_annotation_Feb2021_KW.txt', delimiter = \"\\t\")\n",
    "protein_dat=pd.read_csv('ERCC_IgG_norm.csv')\n",
    "nuc_count = pd.read_csv('nuc_count.csv')\n",
    "\n",
    "protein_dat=protein_dat.rename({'Unnamed: 0': 'Protein'}, axis=1) \n",
    "\n",
    "all_rois=list(protein_dat.columns)[1:]\n",
    "\n",
    "tumor_core_roi_dict={}\n",
    "excluded_rois=[]\n",
    "for loc in range(len(tumor_roi_dat)):\n",
    "    cur_row = tumor_roi_dat.iloc[loc]\n",
    "    roi = cur_row['ROI']\n",
    "    roi_num=roi.split('_')[1]\n",
    "    if len(roi_num)==1:\n",
    "        roi = 'ROI_0'+roi_num\n",
    "\n",
    "    if roi in all_rois:\n",
    "        key = (cur_row['Tumor_ID'],cur_row['Core_ID'])\n",
    "        if key[0]==21 or key[0]==8:\n",
    "            excluded_rois.append(roi)\n",
    "        else:\n",
    "            if key in tumor_core_roi_dict:\n",
    "                tumor_core_roi_dict[key].append(roi)\n",
    "            else:\n",
    "                tumor_core_roi_dict[key] = [roi]            \n",
    "\n",
    "tumor_ids=list(tumor_roi_dat['Tumor_ID'])\n",
    "core_ids=list(tumor_roi_dat['Core_ID'])\n",
    "fish_cores=list(tumor_roi_dat['FISH_core'])\n",
    "\n",
    "tumor_core_to_shreya_base={(tumor_ids[i],core_ids[i]):fish_cores[i] for i in range(len(tumor_roi_dat))}\n",
    "tumor_core_to_shreya={}\n",
    "for k,v in tumor_core_to_shreya_base.items():\n",
    "    if k in tumor_core_roi_dict.keys():\n",
    "        tumor_core_to_shreya[k]=v\n",
    "all_proteins_cores_shreya=list(tumor_core_to_shreya.values())\n",
    "\n",
    "tumor_roi_dict={}\n",
    "for k, rois in tumor_core_roi_dict.items():\n",
    "    tumor=k[0]\n",
    "    if tumor in tumor_roi_dict.keys():\n",
    "        tumor_roi_dict[tumor]=tumor_roi_dict[tumor]+rois\n",
    "    else:\n",
    "        tumor_roi_dict[tumor]=rois\n",
    "            \n",
    "nuc_count=nuc_count.rename({'Unnamed: 0': 'ROI'}, axis=1) \n",
    "\n",
    "tumor_protein_dfs=[]\n",
    "for tumor,rois in tumor_roi_dict.items():\n",
    "    cur_df=protein_dat[rois]\n",
    "    cur_df.index=protein_dat['Protein']\n",
    "    tot_nuc_count=nuc_count[nuc_count['ROI'].isin(protein_dat[rois])]['nuclei_count'].sum()\n",
    "    for roi in rois:\n",
    "        cur_weight=list(nuc_count[nuc_count['ROI']==roi]['nuclei_count'])[0]/tot_nuc_count\n",
    "        cur_df[roi]=cur_df[roi]*cur_weight \n",
    "    cur_df=cur_df.sum(axis=1).to_frame().rename(columns={0:tumor})\n",
    "    tumor_protein_dfs.append(cur_df)\n",
    "protein_dat_by_tumor=pd.concat(tumor_protein_dfs,1)\n",
    "\n",
    "protein_dat_by_tumor=protein_dat_by_tumor.T"
   ]
  },
  {
   "cell_type": "code",
   "execution_count": null,
   "metadata": {},
   "outputs": [],
   "source": [
    "filenames = glob.glob(\"FISH_data/table*\")\n",
    "dfs_o = {}\n",
    "for filename in filenames:\n",
    "    df_o = pd.read_csv(filename)\n",
    "    shreya_core_num = int(filename.split('_')[2])\n",
    "    image_num = int(filename.split('_')[3].split('.')[0])\n",
    "    dfs_o[(shreya_core_num,image_num)]=df_o\n",
    "\n",
    "    \n",
    "HI=6\n",
    "MAX_HI = 50\n",
    "\n",
    "def geno_hi(geno,df):\n",
    "    return (df[geno]>=HI)&(df[geno]<=MAX_HI)\n",
    "def geno_lo(geno,df):\n",
    "    return (df[geno]>=1)&(df[geno]<HI)\n",
    "\n",
    "for df_fish in list(dfs_o.values()):\n",
    "    df_fish['EGFR_amp']=1*(geno_hi('EGFR',df_fish))\n",
    "    df_fish['PDGFRA_amp']=1*(geno_hi('PDGFRA',df_fish))\n",
    "    df_fish['CDK4_amp']=1*(geno_hi('CDK4',df_fish))\n",
    "    \n",
    "dfs={}    \n",
    "for key,df in dfs_o.items():\n",
    "        \n",
    "    if key[0] not in tumor_core_to_shreya.values():\n",
    "        continue\n",
    "\n",
    "    df['EGFR_CDK4_amp']=1*((df['EGFR']>=HI)&(df['CDK4']>=HI))\n",
    "    df['EGFR_NOT_CDK4_amp']=1*((df['EGFR']>=HI)&(df['CDK4']<HI))\n",
    "    df['CDK4_NOT_EGFR_amp']=1*((df['CDK4']>=HI)&(df['EGFR']<HI))\n",
    "    \n",
    "    df['Non_amp']=1*((df['EGFR']<HI)&(df['CDK4']<HI))\n",
    "    \n",
    "    dfs[key]=df[(df['EGFR']<=MAX_HI)&(df['PDGFRA']<=MAX_HI)&(df['CDK4']<=MAX_HI)]\n"
   ]
  },
  {
   "cell_type": "code",
   "execution_count": null,
   "metadata": {},
   "outputs": [],
   "source": [
    "shreya_to_tumor={v:k[0] for k,v in tumor_core_to_shreya.items()}\n",
    "core_list=list(set([item[0] for item in dfs.keys()]))\n",
    "tumor_list = list(set([shreya_to_tumor[core] for core in core_list]))\n",
    "\n",
    "tumor_image_dict={}\n",
    "for k in dfs.keys():\n",
    "    this_tumor=shreya_to_tumor[k[0]]\n",
    "    if this_tumor in tumor_image_dict.keys():\n",
    "        tumor_image_dict[this_tumor]=tumor_image_dict[this_tumor]+[k]\n",
    "    else:\n",
    "        tumor_image_dict[this_tumor]=[k]\n",
    "        \n",
    "dfs_in_tumor={}\n",
    "for tumor, images in tumor_image_dict.items():\n",
    "    dfs_in_tumor[tumor]=pd.concat([dfs[image] for image in images])"
   ]
  },
  {
   "cell_type": "code",
   "execution_count": null,
   "metadata": {},
   "outputs": [],
   "source": [
    "all_cells_df=pd.concat([this_tumor_df for this_tumor_df in dfs_in_tumor.values()])"
   ]
  },
  {
   "cell_type": "code",
   "execution_count": null,
   "metadata": {},
   "outputs": [],
   "source": [
    "len(all_cells_df)"
   ]
  },
  {
   "cell_type": "code",
   "execution_count": null,
   "metadata": {},
   "outputs": [],
   "source": [
    "len(all_cells_df[all_cells_df['EGFR_CDK4_amp']==1])"
   ]
  },
  {
   "cell_type": "code",
   "execution_count": null,
   "metadata": {},
   "outputs": [],
   "source": [
    "len(all_cells_df[all_cells_df['EGFR_NOT_CDK4_amp']==1])"
   ]
  },
  {
   "cell_type": "code",
   "execution_count": null,
   "metadata": {},
   "outputs": [],
   "source": [
    "len(all_cells_df[all_cells_df['CDK4_NOT_EGFR_amp']==1])"
   ]
  },
  {
   "cell_type": "code",
   "execution_count": null,
   "metadata": {},
   "outputs": [],
   "source": [
    "len(all_cells_df[all_cells_df['Non_amp']==1])"
   ]
  },
  {
   "cell_type": "code",
   "execution_count": null,
   "metadata": {},
   "outputs": [],
   "source": [
    "high_OR_tumors = [6,12,13,11,9,17]\n",
    "med_OR_tumors=[14,2,3,5,18]\n",
    "low_OR_tumors=[1,4,15,10,19,16]\n",
    "highOR_cells_df=pd.concat([dfs_in_tumor[tumor] for tumor in high_OR_tumors])\n",
    "medOR_cells_df=pd.concat([dfs_in_tumor[tumor] for tumor in med_OR_tumors])\n",
    "lowOR_cells_df=pd.concat([dfs_in_tumor[tumor] for tumor in low_OR_tumors])"
   ]
  },
  {
   "cell_type": "code",
   "execution_count": null,
   "metadata": {},
   "outputs": [],
   "source": [
    "def get_dict(master_df):\n",
    "    return [len(master_df),len(master_df[master_df['EGFR_CDK4_amp']==1]),len(master_df[master_df['EGFR_NOT_CDK4_amp']==1]),len(master_df[master_df['CDK4_NOT_EGFR_amp']==1]),len(master_df[master_df['Non_amp']==1])]"
   ]
  },
  {
   "cell_type": "code",
   "execution_count": null,
   "metadata": {},
   "outputs": [],
   "source": [
    "all_props={'All tumors':get_dict(all_cells_df),'Low OR tumors':get_dict(lowOR_cells_df),'Med OR tumors':get_dict(medOR_cells_df),'High OR tumors':get_dict(highOR_cells_df)}"
   ]
  },
  {
   "cell_type": "code",
   "execution_count": null,
   "metadata": {},
   "outputs": [],
   "source": [
    "numbers_df=pd.DataFrame.from_dict(all_props,orient='index').rename(columns={0:'All cells',1:'EC',2:'E',3:'C',4:'N/O'})"
   ]
  },
  {
   "cell_type": "code",
   "execution_count": null,
   "metadata": {},
   "outputs": [],
   "source": [
    "#numbers_df.to_csv('Cell_numbers_all_groupings.csv')"
   ]
  },
  {
   "cell_type": "code",
   "execution_count": null,
   "metadata": {},
   "outputs": [],
   "source": [
    "def get_ratio(key,geno):\n",
    "    df=dfs[key]\n",
    "    return len(df[df[geno]==1])/len(df)\n",
    "\n",
    "genos=['EGFR_NOT_CDK4_amp','CDK4_NOT_EGFR_amp','EGFR_CDK4_amp']\n",
    "def get_ratios_all_genos(key,tumor):\n",
    "    this_dict={geno:get_ratio(key,geno) for geno in genos}\n",
    "    this_df=pd.DataFrame.from_dict(this_dict,orient='index').rename(columns={0:'Ratio'})\n",
    "    this_df['Genotype']=this_df.index\n",
    "    this_df['Tumor']=tumor\n",
    "    this_df=this_df.reset_index().drop(['index'],1)\n",
    "    return this_df"
   ]
  },
  {
   "cell_type": "code",
   "execution_count": null,
   "metadata": {},
   "outputs": [],
   "source": [
    "ratio_dfs=[]\n",
    "for tumor in tumor_image_dict.keys():\n",
    "    ratio_dfs.append([get_ratios_all_genos(image,tumor) for image in tumor_image_dict[tumor]]) \n",
    "all_ratios=pd.concat(list(itertools.chain(*ratio_dfs)))"
   ]
  },
  {
   "cell_type": "code",
   "execution_count": null,
   "metadata": {},
   "outputs": [],
   "source": [
    "replacements={'EGFR_NOT_CDK4_amp':'Amplified EGFR, not CDK4','CDK4_NOT_EGFR_amp':'Amplified CDK4, not EGFR','EGFR_CDK4_amp':'Dual amplification'}\n",
    "all_ratios['Genotype']=all_ratios['Genotype'].replace(replacements)\n",
    "all_ratios=all_ratios.rename(columns={'Ratio':'Proportion in image'})"
   ]
  },
  {
   "cell_type": "code",
   "execution_count": null,
   "metadata": {},
   "outputs": [],
   "source": [
    "replacements={'EGFR_NOT_CDK4_amp':'E','CDK4_NOT_EGFR_amp':'C','EGFR_CDK4_amp':'EC'}\n",
    "all_ratios['Genotype']=all_ratios['Genotype'].replace(replacements)\n",
    "all_ratios=all_ratios.rename(columns={'Ratio':'Proportion in image'})"
   ]
  },
  {
   "cell_type": "code",
   "execution_count": null,
   "metadata": {},
   "outputs": [],
   "source": [
    "two_ratios=all_ratios[all_ratios['Genotype']!='Dual amplification']"
   ]
  },
  {
   "cell_type": "code",
   "execution_count": null,
   "metadata": {},
   "outputs": [],
   "source": [
    "genos=['EGFR_NOT_CDK4_amp','CDK4_NOT_EGFR_amp','EGFR_CDK4_amp']\n",
    "all_tumor_stats=[]\n",
    "for tumor in tumor_image_dict.keys():\n",
    "    cur_dfs=[]\n",
    "    for key in tumor_image_dict[tumor]:\n",
    "        cur_dict={geno:[get_ratio(key,geno)] for geno in genos}\n",
    "        cur_df=pd.DataFrame.from_dict(cur_dict)\n",
    "        cur_df['Image']=[key]\n",
    "        cur_df['Tumor']=[tumor]\n",
    "        cur_dfs.append(cur_df)\n",
    "    tumor_df_stats=pd.concat(cur_dfs)\n",
    "    all_tumor_stats.append(tumor_df_stats)"
   ]
  },
  {
   "cell_type": "code",
   "execution_count": null,
   "metadata": {},
   "outputs": [],
   "source": [
    "replacements={'EGFR_NOT_CDK4_amp':'E','CDK4_NOT_EGFR_amp':'C','EGFR_CDK4_amp':'EC'}\n",
    "new_df=pd.concat(all_tumor_stats).rename(columns=replacements)\n",
    "new_df"
   ]
  },
  {
   "cell_type": "code",
   "execution_count": null,
   "metadata": {},
   "outputs": [],
   "source": [
    "all_ratios"
   ]
  },
  {
   "cell_type": "code",
   "execution_count": null,
   "metadata": {},
   "outputs": [],
   "source": [
    "\n",
    "fig= plt.figure(figsize=(14,6))\n",
    "plt.rcParams[\"font.family\"] = \"Arial\"\n",
    "plt.rcParams[\"font.size\"] = 32\n",
    "ax=sns.stripplot(x=\"Tumor\", y=\"Proportion in image\",hue=\"Genotype\",data=all_ratios_renamed,size=8,s=15,linewidth=1)\n",
    "plt.ylim([-0.05,0.7])\n",
    "plt.yticks([0.,0.2,0.4,0.6,0.8])\n",
    "ax.legend_.remove()\n",
    "plt.tight_layout()\n",
    "#plt.savefig('genotype_catplot_all_tumors.pdf')\n",
    "plt.show()"
   ]
  },
  {
   "cell_type": "code",
   "execution_count": null,
   "metadata": {},
   "outputs": [],
   "source": [
    "shreya_to_core_num={v:k[1] for k,v in tumor_core_to_shreya.items()}"
   ]
  },
  {
   "cell_type": "code",
   "execution_count": null,
   "metadata": {},
   "outputs": [],
   "source": [
    "def get_shannon(key):\n",
    "    df=dfs[key]\n",
    "    EGFR_only_amp=len(df[df['EGFR_NOT_CDK4_amp']==1])\n",
    "    CDK4_only_amp=len(df[df['CDK4_NOT_EGFR_amp']==1])\n",
    "    dual_amp=len(df[df['EGFR_CDK4_amp']==1])\n",
    "    no_amp=len(df[df['Non_amp']==1])\n",
    "    tot_cells=len(df)\n",
    "    probs=np.array([EGFR_only_amp,CDK4_only_amp,dual_amp,no_amp])/tot_cells\n",
    "    probs=list(filter(lambda x: x > 0, probs))\n",
    "    shannon_ind=-sum([prob*np.log(prob) for prob in probs])\n",
    "    if np.isnan(shannon_ind):\n",
    "        print ([EGFR_only_amp,CDK4_only_amp,dual_amp,no_amp])\n",
    "    return shannon_ind\n",
    "\n",
    "def get_shannon_tumor(tumor):\n",
    "    this_dict={im:[get_shannon(im),shreya_to_core_num[im[0]]] for im in tumor_image_dict[tumor]}\n",
    "    this_df=pd.DataFrame.from_dict(this_dict,orient='index').rename(columns={0:'Shannon Index',1:'Core'})\n",
    "    this_df['Tumor']=tumor\n",
    "    this_df=this_df.reset_index().drop(['index'],1)\n",
    "    return this_df"
   ]
  },
  {
   "cell_type": "code",
   "execution_count": null,
   "metadata": {},
   "outputs": [],
   "source": [
    "shannon_dfs=[get_shannon_tumor(tumor) for tumor in tumor_image_dict.keys()]  \n",
    "shannon_df=pd.concat(shannon_dfs)"
   ]
  },
  {
   "cell_type": "code",
   "execution_count": null,
   "metadata": {},
   "outputs": [],
   "source": [
    "len(shannon_df['Tumor'].unique())"
   ]
  },
  {
   "cell_type": "code",
   "execution_count": null,
   "metadata": {},
   "outputs": [],
   "source": [
    "fig= plt.figure(figsize=(14,6))\n",
    "plt.rcParams[\"font.family\"] = \"Arial\"\n",
    "plt.rcParams[\"font.size\"] = 32\n",
    "ax=sns.stripplot(x=\"Tumor\", y=\"Shannon Index\",hue=\"Core\",data=shannon_df,size=8,s=15,palette='husl',linewidth=1)\n",
    "ax.set_ylim([0,1.5])\n",
    "plt.yticks([0.,0.5,1.0,1.5])\n",
    "ax.legend_.remove()\n",
    "plt.tight_layout()\n",
    "#plt.savefig('shannon_catplot_all_tumors.pdf')\n",
    "plt.show()"
   ]
  },
  {
   "cell_type": "code",
   "execution_count": null,
   "metadata": {},
   "outputs": [],
   "source": []
  }
 ],
 "metadata": {
  "kernelspec": {
   "display_name": "Python 3 (ipykernel)",
   "language": "python",
   "name": "python3"
  },
  "language_info": {
   "codemirror_mode": {
    "name": "ipython",
    "version": 3
   },
   "file_extension": ".py",
   "mimetype": "text/x-python",
   "name": "python",
   "nbconvert_exporter": "python",
   "pygments_lexer": "ipython3",
   "version": "3.9.7"
  }
 },
 "nbformat": 4,
 "nbformat_minor": 4
}
