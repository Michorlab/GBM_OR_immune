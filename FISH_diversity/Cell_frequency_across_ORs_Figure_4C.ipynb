{
 "cells": [
  {
   "cell_type": "markdown",
   "metadata": {},
   "source": [
    "Analysis for cell type frequency across different OR groups (including code for Fig. 4C)"
   ]
  },
  {
   "cell_type": "code",
   "execution_count": null,
   "metadata": {},
   "outputs": [],
   "source": [
    "# Author: Dalit Engelhardt\n",
    "\n",
    "import numpy as np\n",
    "import matplotlib\n",
    "import matplotlib.pyplot as plt\n",
    "import seaborn as sns\n",
    "import pandas as pd\n",
    "import sklearn\n",
    "import random\n",
    "import glob\n",
    "import pyreadr\n",
    "from operator import itemgetter\n",
    "import itertools\n",
    "from itertools import groupby\n",
    "import seaborn as sns\n",
    "import matplotlib.ticker as ticker\n",
    "import sys\n",
    "import scipy.stats  as stats\n",
    "pd.set_option('display.max_columns', None)\n",
    "from sklearn.preprocessing import MinMaxScaler\n",
    "scaler = MinMaxScaler()\n",
    "import statsmodels.api as sm"
   ]
  },
  {
   "cell_type": "code",
   "execution_count": null,
   "metadata": {},
   "outputs": [],
   "source": [
    "tumor_roi_dat = pd.read_csv('new_annotation_Feb2021_KW.txt', delimiter = \"\\t\")\n",
    "protein_dat=pd.read_csv('ERCC_IgG_norm.csv')\n",
    "nuc_count = pd.read_csv('nuc_count.csv')\n",
    "\n",
    "protein_dat=protein_dat.rename({'Unnamed: 0': 'Protein'}, axis=1) \n",
    "\n",
    "all_rois=list(protein_dat.columns)[1:]\n",
    "\n",
    "tumor_core_roi_dict={}\n",
    "excluded_rois=[]\n",
    "for loc in range(len(tumor_roi_dat)):\n",
    "    cur_row = tumor_roi_dat.iloc[loc]\n",
    "    roi = cur_row['ROI']\n",
    "    roi_num=roi.split('_')[1]\n",
    "    if len(roi_num)==1:\n",
    "        roi = 'ROI_0'+roi_num\n",
    "    #print(cur_row)\n",
    "    if roi in all_rois:\n",
    "        key = (cur_row['Tumor_ID'],cur_row['Core_ID'])\n",
    "        if key[0]==21 or key[0]==8:\n",
    "            excluded_rois.append(roi)\n",
    "        else:\n",
    "            if key in tumor_core_roi_dict:\n",
    "                tumor_core_roi_dict[key].append(roi)\n",
    "            else:\n",
    "                tumor_core_roi_dict[key] = [roi]            \n",
    "\n",
    "\n",
    "tumor_ids=list(tumor_roi_dat['Tumor_ID'])\n",
    "core_ids=list(tumor_roi_dat['Core_ID'])\n",
    "fish_cores=list(tumor_roi_dat['FISH_core'])\n",
    "\n",
    "tumor_core_to_shreya_base={(tumor_ids[i],core_ids[i]):fish_cores[i] for i in range(len(tumor_roi_dat))}\n",
    "tumor_core_to_shreya={}\n",
    "for k,v in tumor_core_to_shreya_base.items():\n",
    "    if k in tumor_core_roi_dict.keys():\n",
    "        tumor_core_to_shreya[k]=v\n",
    "all_proteins_cores_shreya=list(tumor_core_to_shreya.values())\n",
    "\n",
    "tumor_roi_dict={}\n",
    "for k, rois in tumor_core_roi_dict.items():\n",
    "    tumor=k[0]\n",
    "    if tumor in tumor_roi_dict.keys():\n",
    "        tumor_roi_dict[tumor]=tumor_roi_dict[tumor]+rois\n",
    "    else:\n",
    "        tumor_roi_dict[tumor]=rois\n",
    "            \n",
    "nuc_count=nuc_count.rename({'Unnamed: 0': 'ROI'}, axis=1) \n",
    "\n",
    "tumor_protein_dfs=[]\n",
    "for tumor,rois in tumor_roi_dict.items():\n",
    "    cur_df=protein_dat[rois]\n",
    "    cur_df.index=protein_dat['Protein']\n",
    "    tot_nuc_count=nuc_count[nuc_count['ROI'].isin(protein_dat[rois])]['nuclei_count'].sum()\n",
    "    for roi in rois:\n",
    "        cur_weight=list(nuc_count[nuc_count['ROI']==roi]['nuclei_count'])[0]/tot_nuc_count\n",
    "        cur_df[roi]=cur_df[roi]*cur_weight \n",
    "    cur_df=cur_df.sum(axis=1).to_frame().rename(columns={0:tumor})\n",
    "    tumor_protein_dfs.append(cur_df)\n",
    "protein_dat_by_tumor=pd.concat(tumor_protein_dfs,1)\n",
    "\n",
    "protein_dat_by_tumor=protein_dat_by_tumor.T"
   ]
  },
  {
   "cell_type": "code",
   "execution_count": null,
   "metadata": {},
   "outputs": [],
   "source": [
    "filenames = glob.glob(\"FISH_data/table*\")\n",
    "dfs_o = {}\n",
    "\n",
    "for filename in filenames:\n",
    "    df_o = pd.read_csv(filename)\n",
    "    shreya_core_num = int(filename.split('_')[2])\n",
    "    image_num = int(filename.split('_')[3].split('.')[0])\n",
    "    dfs_o[(shreya_core_num,image_num)]=df_o\n",
    "\n",
    "    \n",
    "HI=6\n",
    "MAX_HI = 50\n",
    "\n",
    "def geno_hi(geno,df):\n",
    "    return (df[geno]>=HI)&(df[geno]<=MAX_HI)\n",
    "def geno_lo(geno,df):\n",
    "    return (df[geno]>=1)&(df[geno]<HI)\n",
    "\n",
    "for df_fish in list(dfs_o.values()):\n",
    "    df_fish['EGFR_amp']=1*(geno_hi('EGFR',df_fish))\n",
    "    df_fish['PDGFRA_amp']=1*(geno_hi('PDGFRA',df_fish))\n",
    "    df_fish['CDK4_amp']=1*(geno_hi('CDK4',df_fish))\n",
    "    \n",
    "dfs={}    \n",
    "for key,df in dfs_o.items():\n",
    "\n",
    "    if key[0] not in tumor_core_to_shreya.values():\n",
    "        continue\n",
    "\n",
    "    df['EGFR_CDK4_amp']=1*((df['EGFR']>=HI)&(df['CDK4']>=HI))\n",
    "    df['EGFR_NOT_CDK4_amp']=1*((df['EGFR']>=HI)&(df['CDK4']<HI))\n",
    "    df['CDK4_NOT_EGFR_amp']=1*((df['CDK4']>=HI)&(df['EGFR']<HI))    \n",
    "    df['Non_amp']=1*((df['EGFR']<HI)&(df['CDK4']<HI))\n",
    "    \n",
    "    dfs[key]=df[(df['EGFR']<=MAX_HI)&(df['PDGFRA']<=MAX_HI)&(df['CDK4']<=MAX_HI)]\n"
   ]
  },
  {
   "cell_type": "code",
   "execution_count": null,
   "metadata": {},
   "outputs": [],
   "source": [
    "shreya_to_tumor={v:k[0] for k,v in tumor_core_to_shreya.items()}\n",
    "core_list=list(set([item[0] for item in dfs.keys()]))\n",
    "tumor_list = list(set([shreya_to_tumor[core] for core in core_list]))\n",
    "\n",
    "tumor_image_dict={}\n",
    "for k in dfs.keys():\n",
    "    this_tumor=shreya_to_tumor[k[0]]\n",
    "    if this_tumor in tumor_image_dict.keys():\n",
    "        tumor_image_dict[this_tumor]=tumor_image_dict[this_tumor]+[k]\n",
    "    else:\n",
    "        tumor_image_dict[this_tumor]=[k]\n",
    "        \n",
    "dfs_in_tumor={}\n",
    "for tumor, images in tumor_image_dict.items():\n",
    "    dfs_in_tumor[tumor]=pd.concat([dfs[image] for image in images])"
   ]
  },
  {
   "cell_type": "code",
   "execution_count": null,
   "metadata": {},
   "outputs": [],
   "source": [
    "#TERT\n",
    "filenames = glob.glob(\"hTERTmut_count_results/Log_MAX_TMAtert_TMA_*\")\n",
    "tert_files = {}\n",
    "xy_files = {}\n",
    "\n",
    "for filename in filenames:\n",
    "    file_type = filename.split('TMA')[-1].split('_')[-1].split('.')[0]\n",
    "    core_image = filename.split('TMA')[-1].split('__')[0].split('_')\n",
    "    core = int(core_image[1])\n",
    "    image = int(core_image[2])\n",
    "    if file_type =='tert':\n",
    "        tert_files[(core,image)]=filename\n",
    "    elif file_type == 'xyarea':\n",
    "        xy_files[(core,image)]=filename\n",
    "        \n",
    "dfs_TERT={}\n",
    "for key in list(tert_files.keys()):\n",
    "    if key in list(xy_files.keys()):\n",
    "        \n",
    "        if key[0] not in tumor_core_to_shreya.values():\n",
    "            continue\n",
    "        \n",
    "        df_tert = pd.read_csv(tert_files[key],header=None)\n",
    "        df_xy = pd.read_csv(xy_files[key],header=None)\n",
    "\n",
    "        df_xy=df_xy.set_index(0)\n",
    "        df_xy=df_xy.rename(columns={1:'X',2:'Y'})\n",
    "        df_xy = df_xy.drop(3,1)\n",
    "\n",
    "        df_tert=df_tert.set_index(0)\n",
    "        df_tert=df_tert.rename(columns={1:'TERT_count'})\n",
    "\n",
    "        df=pd.concat([df_xy,df_tert],axis=1, sort=False)\n",
    "        df['TERT_bool']=1*(df['TERT_count']>0)\n",
    "        if len(df)>10:\n",
    "            dfs_TERT[key]=df\n",
    "            \n",
    "tumor_image_dict_TERT={}\n",
    "for k in dfs_TERT.keys():\n",
    "    this_tumor=shreya_to_tumor[k[0]]\n",
    "    if this_tumor in tumor_image_dict_TERT.keys():\n",
    "        tumor_image_dict_TERT[this_tumor]=tumor_image_dict_TERT[this_tumor]+[k]\n",
    "    else:\n",
    "        tumor_image_dict_TERT[this_tumor]=[k]\n",
    "        \n",
    "dfs_in_tumor_TERT={}\n",
    "for tumor, images in tumor_image_dict_TERT.items():\n",
    "    dfs_in_tumor_TERT[tumor]=pd.concat([dfs_TERT[image] for image in images])"
   ]
  },
  {
   "cell_type": "code",
   "execution_count": null,
   "metadata": {},
   "outputs": [],
   "source": [
    "tumor_OR_df=pd.read_csv('tumor_OR_df.csv').rename(columns={'Unnamed: 0':'Tumor'})\n",
    "tumor_OR_df.index=tumor_OR_df['Tumor']\n",
    "tumor_OR_df=tumor_OR_df.drop(['Tumor'],1)"
   ]
  },
  {
   "cell_type": "code",
   "execution_count": null,
   "metadata": {},
   "outputs": [],
   "source": [
    "dfs_in_tumor.keys()"
   ]
  },
  {
   "cell_type": "code",
   "execution_count": null,
   "metadata": {},
   "outputs": [],
   "source": [
    "len(dfs_in_tumor_TERT.keys())"
   ]
  },
  {
   "cell_type": "code",
   "execution_count": null,
   "metadata": {},
   "outputs": [],
   "source": [
    "set(list(dfs_in_tumor.keys())).difference(set(list(dfs_in_tumor_TERT.keys())))"
   ]
  },
  {
   "cell_type": "code",
   "execution_count": null,
   "metadata": {},
   "outputs": [],
   "source": [
    "EGFR_NOT_CDK4_dict={}\n",
    "CDK4_NOT_EGFR_dict={}\n",
    "EGFR_AND_CDK4_dict={}\n",
    "Non_amp_dict={}\n",
    "for tumor, this_df in dfs_in_tumor.items():\n",
    "    EGFR_NOT_CDK4_dict[tumor]=100*len(this_df[this_df['EGFR_NOT_CDK4_amp']==1])/len(this_df)\n",
    "    CDK4_NOT_EGFR_dict[tumor]=100*len(this_df[this_df['CDK4_NOT_EGFR_amp']==1])/len(this_df)\n",
    "    EGFR_AND_CDK4_dict[tumor]=100*len(this_df[this_df['EGFR_CDK4_amp']==1])/len(this_df)\n",
    "    Non_amp_dict[tumor]=100*len(this_df[this_df['Non_amp']==1])/len(this_df)"
   ]
  },
  {
   "cell_type": "code",
   "execution_count": null,
   "metadata": {},
   "outputs": [],
   "source": [
    "TERT_prop_dict={}\n",
    "for tumor, this_df in dfs_in_tumor_TERT.items():\n",
    "    TERT_prop_dict[tumor]=100*len(this_df[this_df['TERT_bool']==1])/len(this_df)\n",
    "TERT_prop_df=pd.DataFrame.from_dict(TERT_prop_dict,orient='index').rename(columns={0:'hTERT'})"
   ]
  },
  {
   "cell_type": "code",
   "execution_count": null,
   "metadata": {},
   "outputs": [],
   "source": [
    "EGFR_NOT_CDK4_df=pd.DataFrame.from_dict(EGFR_NOT_CDK4_dict,orient='index').rename(columns={0:'E'})\n",
    "CDK4_NOT_EGFR_df=pd.DataFrame.from_dict(CDK4_NOT_EGFR_dict,orient='index').rename(columns={0:'C'})\n",
    "EGFR_AND_CDK4_df=pd.DataFrame.from_dict(EGFR_AND_CDK4_dict,orient='index').rename(columns={0:'EC'})\n",
    "Non_amp_df=pd.DataFrame.from_dict(Non_amp_dict,orient='index').rename(columns={0:'NA'})\n",
    "df_geno_props=pd.concat([EGFR_NOT_CDK4_df,CDK4_NOT_EGFR_df,EGFR_AND_CDK4_df,Non_amp_df],axis=1)"
   ]
  },
  {
   "cell_type": "code",
   "execution_count": null,
   "metadata": {},
   "outputs": [],
   "source": [
    "OR_master=pd.concat([df_geno_props,tumor_OR_df,TERT_prop_df],1)"
   ]
  },
  {
   "cell_type": "code",
   "execution_count": null,
   "metadata": {
    "scrolled": true
   },
   "outputs": [],
   "source": [
    "df_geno_props.loc[1]"
   ]
  },
  {
   "cell_type": "code",
   "execution_count": null,
   "metadata": {},
   "outputs": [],
   "source": [
    "tumor_OR_df.loc[1]"
   ]
  },
  {
   "cell_type": "code",
   "execution_count": null,
   "metadata": {},
   "outputs": [],
   "source": [
    "OR_dfs=[]\n",
    "for col in ['E', 'C', 'EC', 'NA','hTERT']:\n",
    "    this_df=OR_master[['OR_char',col]]\n",
    "    this_df['Name']=col\n",
    "    this_df=this_df.rename(columns={col:'Cell frequency (%)'})\n",
    "    this_df=this_df.sort_values(by='OR_char',ascending=False)\n",
    "    OR_dfs.append(this_df)\n",
    "OR_info=pd.concat(OR_dfs)"
   ]
  },
  {
   "cell_type": "code",
   "execution_count": null,
   "metadata": {},
   "outputs": [],
   "source": [
    "OR_info['OR_char'].unique()"
   ]
  },
  {
   "cell_type": "code",
   "execution_count": null,
   "metadata": {},
   "outputs": [],
   "source": [
    "OR_info.to_csv('OR_grouping_and_frequency.csv')"
   ]
  },
  {
   "cell_type": "code",
   "execution_count": null,
   "metadata": {},
   "outputs": [],
   "source": [
    "plt.rcParams[\"font.family\"] = \"Arial\"\n",
    "plt.rcParams[\"font.size\"] = \"26\"\n",
    "fig = plt.figure(figsize=(12,6),linewidth=10)\n",
    "ax=sns.boxplot(x=\"Name\", y=\"Cell frequency (%)\",hue=\"OR_char\",palette=[\"salmon\", 'lightgray',\"lightsteelblue\"], data=OR_info,width=0.7)\n",
    "\n",
    "plt.xlabel('')\n",
    "\n",
    "plt.setp(ax.artists, edgecolor = 'black')\n",
    "plt.setp(ax.lines, color='black')\n",
    "\n",
    "for axis in ['top','bottom','left','right']:\n",
    "    ax.spines[axis].set_linewidth(1.2)\n",
    "#plt.savefig('prop_distributions_across_OR_groups.pdf')\n",
    "plt.show()"
   ]
  },
  {
   "cell_type": "code",
   "execution_count": null,
   "metadata": {},
   "outputs": [],
   "source": [
    "plt.rcParams[\"font.family\"] = \"Arial\"\n",
    "plt.rcParams[\"font.size\"] = \"26\"\n",
    "fig = plt.figure(figsize=(12,6),linewidth=10)\n",
    "ax=sns.boxplot(x=\"Name\", y=\"Cell frequency (%)\",hue=\"OR_char\",palette=[\"salmon\", 'lightgray',\"lightsteelblue\"], data=OR_info,width=0.7)\n",
    "\n",
    "plt.xlabel('')\n",
    "\n",
    "plt.setp(ax.artists, edgecolor = 'black')\n",
    "plt.setp(ax.lines, color='black')\n",
    "\n",
    "ax.legend_.remove()\n",
    "for axis in ['top','bottom','left','right']:\n",
    "    ax.spines[axis].set_linewidth(1.2)\n",
    "#plt.savefig('prop_distributions_across_OR_groups_reordered.pdf')\n",
    "plt.show()"
   ]
  },
  {
   "cell_type": "code",
   "execution_count": null,
   "metadata": {},
   "outputs": [],
   "source": [
    "def get_MW_stats(dist1,dist2):\n",
    "    MW_results=stats.mannwhitneyu(dist1, dist2)\n",
    "    MW_statistic=MW_results.statistic\n",
    "    MW_pval=MW_results.pvalue\n",
    "    return [MW_statistic,MW_pval]"
   ]
  },
  {
   "cell_type": "code",
   "execution_count": null,
   "metadata": {},
   "outputs": [],
   "source": [
    "dist1=list(OR_master[OR_master['OR_char']=='OR, bottom 1/3']['E'])\n",
    "dist2=list(OR_master[OR_master['OR_char']=='OR, top 1/3']['E'])\n",
    "get_MW_stats(dist1,dist2)"
   ]
  },
  {
   "cell_type": "code",
   "execution_count": null,
   "metadata": {},
   "outputs": [],
   "source": [
    "dist1=list(OR_master[OR_master['OR_char']=='OR, bottom 1/3']['C'])\n",
    "dist2=list(OR_master[OR_master['OR_char']=='OR, top 1/3']['C'])\n",
    "get_MW_stats(dist1,dist2)"
   ]
  },
  {
   "cell_type": "code",
   "execution_count": null,
   "metadata": {},
   "outputs": [],
   "source": [
    "dist1=list(OR_master[OR_master['OR_char']=='OR, bottom 1/3']['EC'])\n",
    "dist2=list(OR_master[OR_master['OR_char']=='OR, top 1/3']['EC'])\n",
    "get_MW_stats(dist1,dist2)"
   ]
  },
  {
   "cell_type": "code",
   "execution_count": null,
   "metadata": {},
   "outputs": [],
   "source": [
    "dist1=list(OR_master[OR_master['OR_char']=='OR, bottom 1/3']['NA'])\n",
    "dist2=list(OR_master[OR_master['OR_char']=='OR, top 1/3']['NA'])\n",
    "get_MW_stats(dist1,dist2)"
   ]
  },
  {
   "cell_type": "code",
   "execution_count": null,
   "metadata": {},
   "outputs": [],
   "source": [
    "dist1=list(OR_master[OR_master['OR_char']=='OR, bottom 1/3']['hTERT'])\n",
    "dist2=list(OR_master[OR_master['OR_char']=='OR, top 1/3']['hTERT'])\n",
    "get_MW_stats(dist1,dist2)"
   ]
  },
  {
   "cell_type": "code",
   "execution_count": null,
   "metadata": {},
   "outputs": [],
   "source": []
  }
 ],
 "metadata": {
  "kernelspec": {
   "display_name": "Python 3 (ipykernel)",
   "language": "python",
   "name": "python3"
  },
  "language_info": {
   "codemirror_mode": {
    "name": "ipython",
    "version": 3
   },
   "file_extension": ".py",
   "mimetype": "text/x-python",
   "name": "python",
   "nbconvert_exporter": "python",
   "pygments_lexer": "ipython3",
   "version": "3.9.7"
  }
 },
 "nbformat": 4,
 "nbformat_minor": 4
}
