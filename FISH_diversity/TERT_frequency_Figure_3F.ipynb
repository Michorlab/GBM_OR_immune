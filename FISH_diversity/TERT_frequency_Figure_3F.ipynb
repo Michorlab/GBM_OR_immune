{
 "cells": [
  {
   "cell_type": "markdown",
   "metadata": {},
   "source": [
    "Code for Figure 3F"
   ]
  },
  {
   "cell_type": "code",
   "execution_count": null,
   "metadata": {},
   "outputs": [],
   "source": [
    "import numpy as np\n",
    "import matplotlib\n",
    "import matplotlib.pyplot as plt\n",
    "import seaborn as sns\n",
    "import pandas as pd\n",
    "import sklearn\n",
    "import random\n",
    "import glob\n",
    "from operator import itemgetter\n",
    "import itertools\n",
    "from itertools import groupby\n",
    "import seaborn as sns\n",
    "import matplotlib.ticker as ticker\n",
    "import sys\n",
    "import scipy.stats  as stats\n",
    "pd.set_option('display.max_columns', None)"
   ]
  },
  {
   "cell_type": "code",
   "execution_count": null,
   "metadata": {},
   "outputs": [],
   "source": [
    "tumor_roi_dat = pd.read_csv('new_annotation_Feb2021_KW.txt', delimiter = \"\\t\")\n",
    "protein_dat=pd.read_csv('ERCC_IgG_norm.csv')\n",
    "nuc_count = pd.read_csv('nuc_count.csv')\n",
    "\n",
    "protein_dat=protein_dat.rename({'Unnamed: 0': 'Protein'}, axis=1) \n",
    "\n",
    "all_rois=list(protein_dat.columns)[1:]\n",
    "\n",
    "tumor_core_roi_dict={}\n",
    "excluded_rois=[]\n",
    "for loc in range(len(tumor_roi_dat)):\n",
    "    cur_row = tumor_roi_dat.iloc[loc]\n",
    "    roi = cur_row['ROI']\n",
    "    roi_num=roi.split('_')[1]\n",
    "    if len(roi_num)==1:\n",
    "        roi = 'ROI_0'+roi_num\n",
    "    #print(cur_row)\n",
    "    if roi in all_rois:\n",
    "        key = (cur_row['Tumor_ID'],cur_row['Core_ID'])\n",
    "        if key[0]==21 or key[0]==8:\n",
    "            excluded_rois.append(roi)\n",
    "        else:\n",
    "            if key in tumor_core_roi_dict:\n",
    "                tumor_core_roi_dict[key].append(roi)\n",
    "            else:\n",
    "                tumor_core_roi_dict[key] = [roi]            \n",
    "\n",
    "tumor_ids=list(tumor_roi_dat['Tumor_ID'])\n",
    "core_ids=list(tumor_roi_dat['Core_ID'])\n",
    "fish_cores=list(tumor_roi_dat['FISH_core'])\n",
    "\n",
    "tumor_core_to_shreya_base={(tumor_ids[i],core_ids[i]):fish_cores[i] for i in range(len(tumor_roi_dat))}\n",
    "tumor_core_to_shreya={}\n",
    "for k,v in tumor_core_to_shreya_base.items():\n",
    "    if k in tumor_core_roi_dict.keys():\n",
    "        tumor_core_to_shreya[k]=v\n",
    "all_proteins_cores_shreya=list(tumor_core_to_shreya.values())\n",
    "\n",
    "tumor_roi_dict={}\n",
    "for k, rois in tumor_core_roi_dict.items():\n",
    "    tumor=k[0]\n",
    "    if tumor in tumor_roi_dict.keys():\n",
    "        tumor_roi_dict[tumor]=tumor_roi_dict[tumor]+rois\n",
    "    else:\n",
    "        tumor_roi_dict[tumor]=rois\n",
    "            \n",
    "nuc_count=nuc_count.rename({'Unnamed: 0': 'ROI'}, axis=1) \n",
    "\n",
    "tumor_protein_dfs=[]\n",
    "for tumor,rois in tumor_roi_dict.items():\n",
    "    cur_df=protein_dat[rois]\n",
    "    cur_df.index=protein_dat['Protein']\n",
    "    tot_nuc_count=nuc_count[nuc_count['ROI'].isin(protein_dat[rois])]['nuclei_count'].sum()\n",
    "    for roi in rois:\n",
    "        cur_weight=list(nuc_count[nuc_count['ROI']==roi]['nuclei_count'])[0]/tot_nuc_count\n",
    "        cur_df[roi]=cur_df[roi]*cur_weight \n",
    "    cur_df=cur_df.sum(axis=1).to_frame().rename(columns={0:tumor})\n",
    "    tumor_protein_dfs.append(cur_df)\n",
    "protein_dat_by_tumor=pd.concat(tumor_protein_dfs,1)\n",
    "\n",
    "protein_dat_by_tumor=protein_dat_by_tumor.T"
   ]
  },
  {
   "cell_type": "code",
   "execution_count": null,
   "metadata": {},
   "outputs": [],
   "source": [
    "len(all_proteins_cores_shreya)"
   ]
  },
  {
   "cell_type": "code",
   "execution_count": null,
   "metadata": {},
   "outputs": [],
   "source": [
    "filenames = glob.glob(\"FISH_data/table*\")\n",
    "dfs_o = {}\n",
    "for filename in filenames:\n",
    "    df_o = pd.read_csv(filename)\n",
    "    shreya_core_num = int(filename.split('_')[2])\n",
    "    image_num = int(filename.split('_')[3].split('.')[0])\n",
    "    dfs_o[(shreya_core_num,image_num)]=df_o\n",
    "\n",
    "    \n",
    "HI=6\n",
    "MAX_HI = 50\n",
    "\n",
    "def geno_hi(geno,df):\n",
    "    return (df[geno]>=HI)&(df[geno]<=MAX_HI)\n",
    "def geno_lo(geno,df):\n",
    "    return (df[geno]>=1)&(df[geno]<HI)\n",
    "\n",
    "for df_fish in list(dfs_o.values()):\n",
    "    df_fish['EGFR_amp']=1*(geno_hi('EGFR',df_fish))\n",
    "    df_fish['PDGFRA_amp']=1*(geno_hi('PDGFRA',df_fish))\n",
    "    df_fish['CDK4_amp']=1*(geno_hi('CDK4',df_fish))\n",
    "    \n",
    "dfs={}    \n",
    "for key,df in dfs_o.items():\n",
    "        \n",
    "    if key[0] not in tumor_core_to_shreya.values():\n",
    "        continue\n",
    "\n",
    "    \n",
    "    df['HHH']=1*((df['EGFR']>=HI)&(df['PDGFRA']>=HI)&(df['CDK4']>=HI))\n",
    "    df['HHL']=1*((df['EGFR']>=HI)&(df['PDGFRA']>=HI)&(df['CDK4']<HI))\n",
    "    df['HLH']=1*((df['EGFR']>=HI)&(df['PDGFRA']<HI)&(df['CDK4']>=HI))\n",
    "    df['LHH']=1*((df['EGFR']<HI)&(df['PDGFRA']>=HI)&(df['CDK4']>=HI))\n",
    "    df['HLL']=1*((df['EGFR']>=HI)&(df['PDGFRA']<HI)&(df['CDK4']<HI))\n",
    "    df['LHL']=1*((df['EGFR']<HI)&(df['PDGFRA']>=HI)&(df['CDK4']<HI))\n",
    "    df['LLH']=1*((df['EGFR']<HI)&(df['PDGFRA']<HI)&(df['CDK4']>=HI))\n",
    "    df['LLL']=1*((df['EGFR']<HI)&(df['PDGFRA']<HI)&(df['CDK4']<HI))\n",
    "\n",
    "    dfs[key]=df[(df['EGFR']<=MAX_HI)&(df['PDGFRA']<=MAX_HI)&(df['CDK4']<=MAX_HI)]"
   ]
  },
  {
   "cell_type": "code",
   "execution_count": null,
   "metadata": {},
   "outputs": [],
   "source": [
    "#TERT\n",
    "filenames = glob.glob(\"hTERTmut_count_results/Log_MAX_TMAtert_TMA_*\")\n",
    "tert_files = {}\n",
    "xy_files = {}\n",
    "\n",
    "for filename in filenames:\n",
    "    file_type = filename.split('TMA')[-1].split('_')[-1].split('.')[0]\n",
    "    core_image = filename.split('TMA')[-1].split('__')[0].split('_')\n",
    "    core = int(core_image[1])\n",
    "    image = int(core_image[2])\n",
    "    if file_type =='tert':\n",
    "        tert_files[(core,image)]=filename\n",
    "    elif file_type == 'xyarea':\n",
    "        xy_files[(core,image)]=filename\n",
    "        \n",
    "dfs_TERT={}\n",
    "for key in list(tert_files.keys()):\n",
    "    if key in list(xy_files.keys()):\n",
    "        \n",
    "        if key[0] not in tumor_core_to_shreya.values():\n",
    "            continue\n",
    "        \n",
    "        df_tert = pd.read_csv(tert_files[key],header=None)\n",
    "        df_xy = pd.read_csv(xy_files[key],header=None)\n",
    "\n",
    "        df_xy=df_xy.set_index(0)\n",
    "        df_xy=df_xy.rename(columns={1:'X',2:'Y'})\n",
    "        df_xy = df_xy.drop(3,1)\n",
    "\n",
    "        df_tert=df_tert.set_index(0)\n",
    "        df_tert=df_tert.rename(columns={1:'TERT_count'})\n",
    "\n",
    "        df=pd.concat([df_xy,df_tert],axis=1, sort=False)\n",
    "        df['TERT_bool']=1*(df['TERT_count']>0)\n",
    "        if len(df)>10:\n",
    "            dfs_TERT[key]=df\n",
    "\n"
   ]
  },
  {
   "cell_type": "code",
   "execution_count": null,
   "metadata": {},
   "outputs": [],
   "source": [
    "len(dfs_TERT)"
   ]
  },
  {
   "cell_type": "code",
   "execution_count": null,
   "metadata": {},
   "outputs": [],
   "source": [
    "TERT_core_to_images={}\n",
    "for k in dfs_TERT.keys():\n",
    "    this_core=k[0]\n",
    "    if this_core in TERT_core_to_images.keys():\n",
    "        TERT_core_to_images[this_core]=TERT_core_to_images[this_core]+[k]\n",
    "    else:\n",
    "        TERT_core_to_images[this_core]=[k]"
   ]
  },
  {
   "cell_type": "code",
   "execution_count": null,
   "metadata": {},
   "outputs": [],
   "source": [
    "dfs_TERT_in_core={}\n",
    "for core, images in TERT_core_to_images.items():\n",
    "    dfs_TERT_in_core[core]=pd.concat([dfs_TERT[image] for image in images])"
   ]
  },
  {
   "cell_type": "code",
   "execution_count": null,
   "metadata": {},
   "outputs": [],
   "source": [
    "len(dfs_TERT_in_core)"
   ]
  },
  {
   "cell_type": "code",
   "execution_count": null,
   "metadata": {},
   "outputs": [],
   "source": [
    "len(set([item[0] for item in dfs_TERT.keys()]))"
   ]
  },
  {
   "cell_type": "code",
   "execution_count": null,
   "metadata": {},
   "outputs": [],
   "source": [
    "prop_TERT=[]\n",
    "for core,df_TERT_in_core in dfs_TERT_in_core.items():\n",
    "    this_prop_TERT=100*len(df_TERT_in_core[df_TERT_in_core['TERT_bool']==1])/len(df_TERT_in_core)\n",
    "    prop_TERT.append(this_prop_TERT)"
   ]
  },
  {
   "cell_type": "code",
   "execution_count": null,
   "metadata": {},
   "outputs": [],
   "source": [
    "plt.rcParams[\"font.family\"] = \"Arial\"\n",
    "plt.rcParams[\"font.size\"] = \"28\"\n",
    "fig = plt.figure(figsize=(6.1,7))\n",
    "sns.distplot(prop_TERT,kde=False,color='darkorchid')\n",
    "plt.ylabel('Number of cores')\n",
    "plt.xlabel('Frequency (%)\\nof TERT-mutant cells')\n",
    "plt.xticks([0,20,40,60,80])\n",
    "plt.yticks([0,2,4,6,8,10,12])\n",
    "\n",
    "plt.tight_layout()\n",
    "#plt.savefig('TERT_core_props.pdf')\n",
    "plt.show()"
   ]
  },
  {
   "cell_type": "code",
   "execution_count": null,
   "metadata": {},
   "outputs": [],
   "source": []
  }
 ],
 "metadata": {
  "kernelspec": {
   "display_name": "Python 3 (ipykernel)",
   "language": "python",
   "name": "python3"
  },
  "language_info": {
   "codemirror_mode": {
    "name": "ipython",
    "version": 3
   },
   "file_extension": ".py",
   "mimetype": "text/x-python",
   "name": "python",
   "nbconvert_exporter": "python",
   "pygments_lexer": "ipython3",
   "version": "3.9.7"
  }
 },
 "nbformat": 4,
 "nbformat_minor": 4
}
