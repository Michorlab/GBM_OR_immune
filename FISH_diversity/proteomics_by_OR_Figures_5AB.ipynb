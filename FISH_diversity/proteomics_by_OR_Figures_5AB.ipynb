{
 "cells": [
  {
   "cell_type": "markdown",
   "metadata": {},
   "source": [
    "Protein expression analysis by OR (including code for Figures 5A and 5B)"
   ]
  },
  {
   "cell_type": "code",
   "execution_count": null,
   "metadata": {},
   "outputs": [],
   "source": [
    "import numpy as np\n",
    "import matplotlib\n",
    "import matplotlib.pyplot as plt\n",
    "import seaborn as sns\n",
    "import pandas as pd\n",
    "import sklearn\n",
    "import random\n",
    "import glob\n",
    "from operator import itemgetter\n",
    "import itertools\n",
    "from itertools import groupby\n",
    "import seaborn as sns\n",
    "import matplotlib.ticker as ticker\n",
    "import sys\n",
    "import scipy.stats  as stats\n",
    "pd.set_option('display.max_columns', None)\n",
    "from sklearn.preprocessing import MinMaxScaler\n",
    "scaler = MinMaxScaler()\n",
    "import statsmodels.api as sm"
   ]
  },
  {
   "cell_type": "code",
   "execution_count": null,
   "metadata": {},
   "outputs": [],
   "source": [
    "tumor_roi_dat = pd.read_csv('new_annotation_Feb2021_KW.txt', delimiter = \"\\t\")\n",
    "protein_dat=pd.read_csv('ERCC_IgG_norm.csv')\n",
    "nuc_count = pd.read_csv('nuc_count.csv')\n",
    "\n",
    "protein_dat=protein_dat.rename({'Unnamed: 0': 'Protein'}, axis=1) \n",
    "\n",
    "all_rois=list(protein_dat.columns)[1:]\n",
    "\n",
    "tumor_core_roi_dict={}\n",
    "excluded_rois=[]\n",
    "for loc in range(len(tumor_roi_dat)):\n",
    "    cur_row = tumor_roi_dat.iloc[loc]\n",
    "    roi = cur_row['ROI']\n",
    "    roi_num=roi.split('_')[1]\n",
    "    if len(roi_num)==1:\n",
    "        roi = 'ROI_0'+roi_num\n",
    "    #print(cur_row)\n",
    "    if roi in all_rois:\n",
    "        key = (cur_row['Tumor_ID'],cur_row['Core_ID'])\n",
    "        if key[0]==21 or key[0]==8:\n",
    "            excluded_rois.append(roi)\n",
    "        else:\n",
    "            if key in tumor_core_roi_dict:\n",
    "                tumor_core_roi_dict[key].append(roi)\n",
    "            else:\n",
    "                tumor_core_roi_dict[key] = [roi]            \n",
    "\n",
    "tumor_ids=list(tumor_roi_dat['Tumor_ID'])\n",
    "core_ids=list(tumor_roi_dat['Core_ID'])\n",
    "fish_cores=list(tumor_roi_dat['FISH_core'])\n",
    "\n",
    "tumor_core_to_shreya_base={(tumor_ids[i],core_ids[i]):fish_cores[i] for i in range(len(tumor_roi_dat))}\n",
    "tumor_core_to_shreya={}\n",
    "for k,v in tumor_core_to_shreya_base.items():\n",
    "    if k in tumor_core_roi_dict.keys():\n",
    "        tumor_core_to_shreya[k]=v\n",
    "all_proteins_cores_shreya=list(tumor_core_to_shreya.values())\n",
    "\n",
    "tumor_roi_dict={}\n",
    "for k, rois in tumor_core_roi_dict.items():\n",
    "    tumor=k[0]\n",
    "    if tumor in tumor_roi_dict.keys():\n",
    "        tumor_roi_dict[tumor]=tumor_roi_dict[tumor]+rois\n",
    "    else:\n",
    "        tumor_roi_dict[tumor]=rois\n",
    "            \n",
    "nuc_count=nuc_count.rename({'Unnamed: 0': 'ROI'}, axis=1) \n",
    "\n",
    "tumor_protein_dfs=[]\n",
    "for tumor,rois in tumor_roi_dict.items():\n",
    "    cur_df=protein_dat[rois]\n",
    "    cur_df.index=protein_dat['Protein']\n",
    "    tot_nuc_count=nuc_count[nuc_count['ROI'].isin(protein_dat[rois])]['nuclei_count'].sum()\n",
    "    for roi in rois:\n",
    "        cur_weight=list(nuc_count[nuc_count['ROI']==roi]['nuclei_count'])[0]/tot_nuc_count\n",
    "        cur_df[roi]=cur_df[roi]*cur_weight \n",
    "    cur_df=cur_df.sum(axis=1).to_frame().rename(columns={0:tumor})\n",
    "    tumor_protein_dfs.append(cur_df)\n",
    "protein_dat_by_tumor=pd.concat(tumor_protein_dfs,1)\n",
    "\n",
    "protein_dat_by_tumor=protein_dat_by_tumor.T"
   ]
  },
  {
   "cell_type": "code",
   "execution_count": null,
   "metadata": {},
   "outputs": [],
   "source": [
    "protein_list=list(protein_dat_by_tumor.columns)"
   ]
  },
  {
   "cell_type": "code",
   "execution_count": null,
   "metadata": {},
   "outputs": [],
   "source": [
    "protein_dat_by_tumor_rescaled = pd.DataFrame(scaler.fit_transform(protein_dat_by_tumor), columns=protein_dat_by_tumor.columns)\n",
    "protein_dat_by_tumor_rescaled.index=protein_dat_by_tumor.index"
   ]
  },
  {
   "cell_type": "code",
   "execution_count": null,
   "metadata": {},
   "outputs": [],
   "source": [
    "tumor_OR_df=pd.read_csv('tumor_OR_df.csv').rename(columns={'Unnamed: 0':'Tumor'})\n",
    "tumor_OR_df.index=tumor_OR_df['Tumor']\n",
    "tumor_OR_df=tumor_OR_df.drop(['Tumor'],1)"
   ]
  },
  {
   "cell_type": "code",
   "execution_count": null,
   "metadata": {},
   "outputs": [],
   "source": [
    "protein_dat_by_tumor_rescaled.index.name='Tumor'"
   ]
  },
  {
   "cell_type": "code",
   "execution_count": null,
   "metadata": {},
   "outputs": [],
   "source": [
    "proteins_with_OR_df=pd.concat([protein_dat_by_tumor_rescaled,tumor_OR_df],1)"
   ]
  },
  {
   "cell_type": "code",
   "execution_count": null,
   "metadata": {},
   "outputs": [],
   "source": [
    "def get_MW_stats(dist1,dist2):\n",
    "    MW_results=stats.mannwhitneyu(dist1, dist2)\n",
    "    MW_statistic=MW_results.statistic\n",
    "    MW_pval=MW_results.pvalue\n",
    "    return [MW_statistic,MW_pval]"
   ]
  },
  {
   "cell_type": "code",
   "execution_count": null,
   "metadata": {},
   "outputs": [],
   "source": [
    "tumor_group1=list(proteins_with_OR_df[proteins_with_OR_df['OR_char']=='OR, top 1/3'].index)\n",
    "tumor_group2=list(proteins_with_OR_df[proteins_with_OR_df['OR_char']=='OR, bottom 1/3'].index)\n",
    "\n",
    "results_MW_dict={}\n",
    "for protein in protein_list:\n",
    "    dist1=[proteins_with_OR_df.loc[tumor][protein] for tumor in tumor_group1]\n",
    "    dist2=[proteins_with_OR_df.loc[tumor][protein] for tumor in tumor_group2]\n",
    "    results_MW_dict[protein]=get_MW_stats(dist1,dist2)\n",
    "\n",
    "df_MW=pd.DataFrame.from_dict(results_MW_dict).T.rename(columns={0:'MW_statistic',1:'P-value'})\n",
    "df_MW_sig_min=df_MW[df_MW['P-value']<0.05].sort_values(by='P-value',ascending=True)"
   ]
  },
  {
   "cell_type": "code",
   "execution_count": null,
   "metadata": {},
   "outputs": [],
   "source": [
    "\n",
    "results_mean_diff_dict={}\n",
    "for protein in protein_list:\n",
    "    dist1=[proteins_with_OR_df.loc[tumor][protein] for tumor in tumor_group1]\n",
    "    dist2=[proteins_with_OR_df.loc[tumor][protein] for tumor in tumor_group2]\n",
    "    results_mean_diff_dict[protein]=abs(np.mean(dist1)-np.mean(dist2))\n",
    "\n",
    "df_diff_means=pd.DataFrame.from_dict(results_mean_diff_dict,orient='index').rename(columns={0:'Abs. diff. in means'})\n",
    "df_diff_means=df_diff_means.sort_values(by='Abs. diff. in means',ascending=False)"
   ]
  },
  {
   "cell_type": "code",
   "execution_count": null,
   "metadata": {},
   "outputs": [],
   "source": [
    "df_diff_means_MW_set=df_diff_means.loc[df_MW_sig_min.index].sort_values(by='Abs. diff. in means',ascending=False)"
   ]
  },
  {
   "cell_type": "code",
   "execution_count": null,
   "metadata": {},
   "outputs": [],
   "source": [
    "new_dfs=[]\n",
    "sample_prot_list=list(df_MW_sig_min.index)\n",
    "for prot in sample_prot_list:\n",
    "    new_df=proteins_with_OR_df[[prot,'OR_char']]\n",
    "    new_df['Protein']=prot\n",
    "    new_df=new_df.rename(columns={prot:'Normalized expression'})\n",
    "    new_dfs.append(new_df)\n",
    "full_df=pd.concat(new_dfs)\n",
    "plt.rcParams[\"font.family\"] = \"Arial\"\n",
    "plt.rcParams[\"font.size\"] = \"28\"\n",
    "fig = plt.figure(figsize=(22,8))\n",
    "ax=sns.boxplot(x=\"Protein\", y=\"Normalized expression\",hue=\"OR_char\", palette=[\"lightsteelblue\", 'lightgray',\"salmon\"], data=full_df,width=0.5)\n",
    "ax.legend_.remove()\n",
    "plt.xlabel('')\n",
    "plt.xticks(rotation=45)\n",
    "plt.setp(ax.artists, edgecolor = 'black')\n",
    "plt.setp(ax.lines, color='black')\n",
    "for axis in ['top','bottom','left','right']:\n",
    "    ax.spines[axis].set_linewidth(1.2)\n",
    "plt.tight_layout()\n",
    "#plt.savefig('all_sig_proteins_from_MW.pdf')\n",
    "plt.show()"
   ]
  },
  {
   "cell_type": "code",
   "execution_count": null,
   "metadata": {},
   "outputs": [],
   "source": [
    "df_for_corr=proteins_with_OR_df[list(df_MW_sig_min.index)]#.drop(['Tumor_OR'],1)\n",
    "cor=df_for_corr.corr(method='spearman')\n",
    "plt.rcParams[\"font.family\"] = \"Arial\"\n",
    "plt.rcParams[\"font.size\"] = 22\n",
    "cmap = sns.diverging_palette(230, 20, as_cmap=True)\n",
    "\n",
    "sns.clustermap(cor, cmap=cmap, metric='correlation', linewidths=0,yticklabels=1,xticklabels=1,vmin=-1,vmax=1,cbar_kws={\"ticks\":[-1,-0.5,0.,0.5,1]}) \n",
    "#plt.tight_layout()\n",
    "#plt.savefig('MW_sig_proteins_clustered_v2.pdf')\n",
    "plt.show()"
   ]
  },
  {
   "cell_type": "code",
   "execution_count": null,
   "metadata": {},
   "outputs": [],
   "source": [
    "df_MW_sig_min"
   ]
  },
  {
   "cell_type": "code",
   "execution_count": null,
   "metadata": {},
   "outputs": [],
   "source": []
  }
 ],
 "metadata": {
  "kernelspec": {
   "display_name": "Python 3 (ipykernel)",
   "language": "python",
   "name": "python3"
  },
  "language_info": {
   "codemirror_mode": {
    "name": "ipython",
    "version": 3
   },
   "file_extension": ".py",
   "mimetype": "text/x-python",
   "name": "python",
   "nbconvert_exporter": "python",
   "pygments_lexer": "ipython3",
   "version": "3.9.7"
  }
 },
 "nbformat": 4,
 "nbformat_minor": 4
}
