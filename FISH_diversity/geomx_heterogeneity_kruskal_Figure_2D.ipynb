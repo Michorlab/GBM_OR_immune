{
 "cells": [
  {
   "cell_type": "markdown",
   "metadata": {},
   "source": [
    "Analysis of inter- and intra-tumor heterogeneity using geomx data (including code for Fig. 2D)"
   ]
  },
  {
   "cell_type": "code",
   "execution_count": null,
   "metadata": {},
   "outputs": [],
   "source": [
    "import numpy as np\n",
    "import matplotlib\n",
    "import matplotlib.pyplot as plt\n",
    "import seaborn as sns\n",
    "import pandas as pd\n",
    "import sklearn\n",
    "import random\n",
    "import glob\n",
    "import pyreadr\n",
    "from operator import itemgetter\n",
    "import itertools\n",
    "from itertools import groupby\n",
    "import seaborn as sns\n",
    "import matplotlib.ticker as ticker\n",
    "import sys\n",
    "import scipy.stats  as stats\n",
    "pd.set_option('display.max_columns', None)\n",
    "from sklearn.preprocessing import MinMaxScaler\n",
    "scaler = MinMaxScaler()\n",
    "from statsmodels.stats import multitest"
   ]
  },
  {
   "cell_type": "code",
   "execution_count": null,
   "metadata": {},
   "outputs": [],
   "source": [
    "tumor_roi_dat = pd.read_csv('new_annotation_Feb2021_KW.txt', delimiter = \"\\t\")\n",
    "protein_dat=pd.read_csv('ERCC_IgG_norm.csv')\n",
    "nuc_count = pd.read_csv('nuc_count.csv')\n",
    "\n",
    "protein_dat=protein_dat.rename({'Unnamed: 0': 'Protein'}, axis=1) \n",
    "\n",
    "all_rois=list(protein_dat.columns)[1:]\n",
    "\n",
    "tumor_core_roi_dict={}\n",
    "excluded_rois=[]\n",
    "for loc in range(len(tumor_roi_dat)):\n",
    "    cur_row = tumor_roi_dat.iloc[loc]\n",
    "    roi = cur_row['ROI']\n",
    "    roi_num=roi.split('_')[1]\n",
    "    if len(roi_num)==1:\n",
    "        roi = 'ROI_0'+roi_num\n",
    "    #print(cur_row)\n",
    "    if roi in all_rois:\n",
    "        key = (cur_row['Tumor_ID'],cur_row['Core_ID'])\n",
    "        if key[0]==21 or key[0]==8:\n",
    "            excluded_rois.append(roi)\n",
    "        else:\n",
    "            if key in tumor_core_roi_dict:\n",
    "                tumor_core_roi_dict[key].append(roi)\n",
    "            else:\n",
    "                tumor_core_roi_dict[key] = [roi]            \n",
    "            \n",
    "protein_dat=protein_dat.drop(excluded_rois,1)\n",
    "\n",
    "tumor_roi_dict={}\n",
    "for k, rois in tumor_core_roi_dict.items():\n",
    "    tumor=k[0]\n",
    "    if tumor in tumor_roi_dict.keys():\n",
    "        tumor_roi_dict[tumor]=tumor_roi_dict[tumor]+rois\n",
    "    else:\n",
    "        tumor_roi_dict[tumor]=rois\n",
    "all_rois =list(itertools.chain(*list(tumor_core_roi_dict.values())))"
   ]
  },
  {
   "cell_type": "code",
   "execution_count": null,
   "metadata": {},
   "outputs": [],
   "source": [
    "protein_dat_by_ROI=protein_dat.set_index('Protein').T\n",
    "protein_dat_by_ROI_scaled = pd.DataFrame(scaler.fit_transform(protein_dat_by_ROI), columns=protein_dat_by_ROI.columns)\n",
    "protein_dat_by_ROI_scaled.index=protein_dat_by_ROI.index"
   ]
  },
  {
   "cell_type": "code",
   "execution_count": null,
   "metadata": {},
   "outputs": [],
   "source": [
    "norm_dict={}\n",
    "for col in protein_dat_by_ROI_scaled.columns:\n",
    "    k2,p=stats.normaltest(list(protein_dat_by_ROI_scaled[col]))\n",
    "    norm_dict[col]=[p]"
   ]
  },
  {
   "cell_type": "code",
   "execution_count": null,
   "metadata": {},
   "outputs": [],
   "source": [
    "norm_test_res=pd.DataFrame.from_dict(norm_dict,orient='columns').T.rename(columns={0:'p'})"
   ]
  },
  {
   "cell_type": "code",
   "execution_count": null,
   "metadata": {},
   "outputs": [],
   "source": [
    "norm_test_res[norm_test_res['p']>0.001].sort_values(by='p',ascending=False)"
   ]
  },
  {
   "cell_type": "code",
   "execution_count": null,
   "metadata": {},
   "outputs": [],
   "source": [
    "roi_tumor_dict={}\n",
    "for tumor, rois in tumor_roi_dict.items():\n",
    "    for roi in rois:\n",
    "        roi_tumor_dict[roi]=tumor"
   ]
  },
  {
   "cell_type": "code",
   "execution_count": null,
   "metadata": {},
   "outputs": [],
   "source": [
    "tumor_grouping=[]\n",
    "for roi in protein_dat_by_ROI_scaled.index:\n",
    "    tumor_grouping.append(roi_tumor_dict[roi])"
   ]
  },
  {
   "cell_type": "code",
   "execution_count": null,
   "metadata": {},
   "outputs": [],
   "source": [
    "protein_dat_by_ROI_scaled['Tumor']=tumor_grouping"
   ]
  },
  {
   "cell_type": "code",
   "execution_count": null,
   "metadata": {},
   "outputs": [],
   "source": [
    "prot_list=list(protein_dat_by_ROI.columns)"
   ]
  },
  {
   "cell_type": "code",
   "execution_count": null,
   "metadata": {},
   "outputs": [],
   "source": [
    "res_dict={}\n",
    "for prot in prot_list:\n",
    "    distinct_groups=[list(protein_dat_by_ROI_scaled[protein_dat_by_ROI_scaled['Tumor']==tumor][prot]) for tumor in tumor_roi_dict.keys()]\n",
    "    res=stats.kruskal(*distinct_groups)\n",
    "    res_dict[prot]=[res.statistic,res.pvalue]"
   ]
  },
  {
   "cell_type": "code",
   "execution_count": null,
   "metadata": {},
   "outputs": [],
   "source": [
    "res_df=pd.DataFrame.from_dict(res_dict).T.rename(columns={0:'H-statistic',1:'P-value'})"
   ]
  },
  {
   "cell_type": "code",
   "execution_count": null,
   "metadata": {},
   "outputs": [],
   "source": [
    "res_df=res_df.sort_values(by='H-statistic',ascending=False)"
   ]
  },
  {
   "cell_type": "code",
   "execution_count": null,
   "metadata": {},
   "outputs": [],
   "source": [
    "res_df['Protein']=res_df.index"
   ]
  },
  {
   "cell_type": "code",
   "execution_count": null,
   "metadata": {},
   "outputs": [],
   "source": [
    "res_df[res_df['P-value']>0.01]"
   ]
  },
  {
   "cell_type": "code",
   "execution_count": null,
   "metadata": {},
   "outputs": [],
   "source": [
    "df_p=res_df['P-value'].to_frame()\n",
    "df_p=df_p.rename(columns={'P-value':'p'})\n",
    "df_p.to_csv('inter_intra_KW_pvals.csv')"
   ]
  },
  {
   "cell_type": "code",
   "execution_count": null,
   "metadata": {},
   "outputs": [],
   "source": [
    "list(res_df['P-value'])"
   ]
  },
  {
   "cell_type": "code",
   "execution_count": null,
   "metadata": {},
   "outputs": [],
   "source": [
    "res_df['Adjusted p']=multitest.fdrcorrection(list(res_df['P-value']))[1]"
   ]
  },
  {
   "cell_type": "code",
   "execution_count": null,
   "metadata": {},
   "outputs": [],
   "source": [
    "res_df[res_df['Adjusted p']>0.01]"
   ]
  },
  {
   "cell_type": "code",
   "execution_count": null,
   "metadata": {},
   "outputs": [],
   "source": [
    "def arr_to_1d_lis(arr):\n",
    "    return list(itertools.chain(*list(arr)))\n",
    "def list_to_arr(lst,length):\n",
    "    return [lst[x:x+length] for x in range(0, len(lst), length)]\n",
    "def p_value_adjustment(p_results):\n",
    "    pvals1D=arr_to_1d_lis(p_results.to_numpy())\n",
    "    adj_p=multitest.fdrcorrection(pvals1D)[1]\n",
    "    p_results_adj=pd.DataFrame(list_to_arr(adj_p,len(p_results.columns)))\n",
    "    p_results_adj=p_results_adj.set_index(p_results.index)\n",
    "    p_results_adj=p_results_adj.rename(columns={list(p_results_adj.columns)[i]:list(p_results.columns)[i] for i in range(len(p_results.columns))})\n",
    "    return p_results_adj"
   ]
  },
  {
   "cell_type": "code",
   "execution_count": null,
   "metadata": {},
   "outputs": [],
   "source": [
    "\n",
    "fig = plt.figure(figsize=(26,8))\n",
    "plt.rcParams[\"font.size\"] = 22\n",
    "plt.rcParams[\"font.family\"] = 'Arial'\n",
    "res_df=res_df.replace('SNCA_filament','SNCA filament')\n",
    "sns.barplot(x=\"Protein\", y=\"H-statistic\", data=res_df,palette='rocket')\n",
    "plt.xticks(rotation=90)\n",
    "plt.xlabel('')\n",
    "plt.ylabel('H statistic, inter-tumor \\n variability relative to \\nintra-tumor variability',fontsize=34)\n",
    "sns.despine()\n",
    "plt.tight_layout()\n",
    "#plt.savefig('H_statistic_all_proteins.pdf')\n",
    "plt.show()"
   ]
  },
  {
   "cell_type": "code",
   "execution_count": null,
   "metadata": {},
   "outputs": [],
   "source": [
    "list(res_df['Protein'])"
   ]
  },
  {
   "cell_type": "code",
   "execution_count": null,
   "metadata": {},
   "outputs": [],
   "source": []
  }
 ],
 "metadata": {
  "kernelspec": {
   "display_name": "Python 3 (ipykernel)",
   "language": "python",
   "name": "python3"
  },
  "language_info": {
   "codemirror_mode": {
    "name": "ipython",
    "version": 3
   },
   "file_extension": ".py",
   "mimetype": "text/x-python",
   "name": "python",
   "nbconvert_exporter": "python",
   "pygments_lexer": "ipython3",
   "version": "3.9.7"
  }
 },
 "nbformat": 4,
 "nbformat_minor": 4
}
