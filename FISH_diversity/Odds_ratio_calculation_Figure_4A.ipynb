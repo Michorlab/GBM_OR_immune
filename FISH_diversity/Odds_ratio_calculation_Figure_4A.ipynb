{
 "cells": [
  {
   "cell_type": "markdown",
   "metadata": {},
   "source": [
    "Calculation of odds ratios (including code for Fig. 4A)"
   ]
  },
  {
   "cell_type": "code",
   "execution_count": null,
   "metadata": {},
   "outputs": [],
   "source": [
    "import numpy as np\n",
    "import matplotlib\n",
    "import matplotlib.pyplot as plt\n",
    "import seaborn as sns\n",
    "import pandas as pd\n",
    "import sklearn\n",
    "import random\n",
    "import glob\n",
    "import pyreadr\n",
    "from operator import itemgetter\n",
    "import itertools\n",
    "from itertools import groupby\n",
    "import seaborn as sns\n",
    "import matplotlib.ticker as ticker\n",
    "import sys\n",
    "import scipy.stats  as stats\n",
    "pd.set_option('display.max_columns', None)\n",
    "from sklearn.preprocessing import MinMaxScaler\n",
    "scaler = MinMaxScaler()\n",
    "import statsmodels.api as sm"
   ]
  },
  {
   "cell_type": "code",
   "execution_count": null,
   "metadata": {},
   "outputs": [],
   "source": [
    "tumor_roi_dat = pd.read_csv('new_annotation_Feb2021_KW.txt', delimiter = \"\\t\")\n",
    "protein_dat=pd.read_csv('ERCC_IgG_norm.csv')\n",
    "nuc_count = pd.read_csv('nuc_count.csv')\n",
    "\n",
    "protein_dat=protein_dat.rename({'Unnamed: 0': 'Protein'}, axis=1) \n",
    "\n",
    "all_rois=list(protein_dat.columns)[1:]\n",
    "\n",
    "tumor_core_roi_dict={}\n",
    "excluded_rois=[]\n",
    "for loc in range(len(tumor_roi_dat)):\n",
    "    cur_row = tumor_roi_dat.iloc[loc]\n",
    "    roi = cur_row['ROI']\n",
    "    roi_num=roi.split('_')[1]\n",
    "    if len(roi_num)==1:\n",
    "        roi = 'ROI_0'+roi_num\n",
    "    #print(cur_row)\n",
    "    if roi in all_rois:\n",
    "        key = (cur_row['Tumor_ID'],cur_row['Core_ID'])\n",
    "        if key[0]==21 or key[0]==8:\n",
    "            excluded_rois.append(roi)\n",
    "        else:\n",
    "            if key in tumor_core_roi_dict:\n",
    "                tumor_core_roi_dict[key].append(roi)\n",
    "            else:\n",
    "                tumor_core_roi_dict[key] = [roi]            \n",
    "            \n",
    "\n",
    "tumor_ids=list(tumor_roi_dat['Tumor_ID'])\n",
    "core_ids=list(tumor_roi_dat['Core_ID'])\n",
    "fish_cores=list(tumor_roi_dat['FISH_core'])\n",
    "\n",
    "tumor_core_to_shreya_base={(tumor_ids[i],core_ids[i]):fish_cores[i] for i in range(len(tumor_roi_dat))}\n",
    "tumor_core_to_shreya={}\n",
    "for k,v in tumor_core_to_shreya_base.items():\n",
    "    if k in tumor_core_roi_dict.keys():\n",
    "        tumor_core_to_shreya[k]=v\n",
    "all_proteins_cores_shreya=list(tumor_core_to_shreya.values())\n",
    "\n",
    "tumor_roi_dict={}\n",
    "for k, rois in tumor_core_roi_dict.items():\n",
    "    tumor=k[0]\n",
    "    if tumor in tumor_roi_dict.keys():\n",
    "        tumor_roi_dict[tumor]=tumor_roi_dict[tumor]+rois\n",
    "    else:\n",
    "        tumor_roi_dict[tumor]=rois\n",
    "            \n",
    "nuc_count=nuc_count.rename({'Unnamed: 0': 'ROI'}, axis=1) \n",
    "\n",
    "tumor_protein_dfs=[]\n",
    "for tumor,rois in tumor_roi_dict.items():\n",
    "    cur_df=protein_dat[rois]\n",
    "    cur_df.index=protein_dat['Protein']\n",
    "    tot_nuc_count=nuc_count[nuc_count['ROI'].isin(protein_dat[rois])]['nuclei_count'].sum()\n",
    "    for roi in rois:\n",
    "        cur_weight=list(nuc_count[nuc_count['ROI']==roi]['nuclei_count'])[0]/tot_nuc_count\n",
    "        cur_df[roi]=cur_df[roi]*cur_weight \n",
    "    cur_df=cur_df.sum(axis=1).to_frame().rename(columns={0:tumor})\n",
    "    tumor_protein_dfs.append(cur_df)\n",
    "protein_dat_by_tumor=pd.concat(tumor_protein_dfs,1)\n",
    "\n",
    "protein_dat_by_tumor=protein_dat_by_tumor.T"
   ]
  },
  {
   "cell_type": "code",
   "execution_count": null,
   "metadata": {},
   "outputs": [],
   "source": [
    "filenames = glob.glob(\"FISH_data/table*\")\n",
    "dfs_o = {}\n",
    "\n",
    "for filename in filenames:\n",
    "    df_o = pd.read_csv(filename)\n",
    "    shreya_core_num = int(filename.split('_')[2])\n",
    "    image_num = int(filename.split('_')[3].split('.')[0])\n",
    "    dfs_o[(shreya_core_num,image_num)]=df_o\n",
    "\n",
    "    \n",
    "HI=6\n",
    "MAX_HI = 50\n",
    "\n",
    "def geno_hi(geno,df):\n",
    "    return (df[geno]>=HI)&(df[geno]<=MAX_HI)\n",
    "def geno_lo(geno,df):\n",
    "    return (df[geno]>=1)&(df[geno]<HI)\n",
    "\n",
    "for df_fish in list(dfs_o.values()):\n",
    "    df_fish['EGFR_amp']=1*(geno_hi('EGFR',df_fish))\n",
    "    df_fish['PDGFRA_amp']=1*(geno_hi('PDGFRA',df_fish))\n",
    "    df_fish['CDK4_amp']=1*(geno_hi('CDK4',df_fish))\n",
    "    \n",
    "dfs={}    \n",
    "for key,df in dfs_o.items():\n",
    "        \n",
    "    if key[0] not in tumor_core_to_shreya.values():\n",
    "        continue\n",
    "\n",
    "    dfs[key]=df[(df['EGFR']<=MAX_HI)&(df['PDGFRA']<=MAX_HI)&(df['CDK4']<=MAX_HI)]\n",
    " "
   ]
  },
  {
   "cell_type": "code",
   "execution_count": null,
   "metadata": {},
   "outputs": [],
   "source": [
    "shreya_to_tumor={v:k[0] for k,v in tumor_core_to_shreya.items()}\n",
    "core_list=list(set([item[0] for item in dfs.keys()]))\n",
    "tumor_list = list(set([shreya_to_tumor[core] for core in core_list]))\n",
    "\n",
    "tumor_image_dict={}\n",
    "for k in dfs.keys():\n",
    "    this_tumor=shreya_to_tumor[k[0]]\n",
    "    if this_tumor in tumor_image_dict.keys():\n",
    "        tumor_image_dict[this_tumor]=tumor_image_dict[this_tumor]+[k]\n",
    "    else:\n",
    "        tumor_image_dict[this_tumor]=[k]\n",
    "        \n",
    "dfs_in_tumor={}\n",
    "for tumor, images in tumor_image_dict.items():\n",
    "    dfs_in_tumor[tumor]=pd.concat([dfs[image] for image in images])"
   ]
  },
  {
   "cell_type": "code",
   "execution_count": null,
   "metadata": {},
   "outputs": [],
   "source": [
    "tumor_stats_dict={}\n",
    "for tumor in tumor_list:\n",
    "    this_df=dfs_in_tumor[tumor]\n",
    "    N_EC=len(this_df[(this_df['CDK4_amp']==1)&(this_df['EGFR_amp']==1)])\n",
    "    N_C=len(this_df[(this_df['CDK4_amp']==1)&(this_df['EGFR_amp']==0)])\n",
    "    N_E=len(this_df[(this_df['CDK4_amp']==0)&(this_df['EGFR_amp']==1)])\n",
    "    N_NA=len(this_df[(this_df['CDK4_amp']==0)&(this_df['EGFR_amp']==0)])\n",
    "    tumor_stats_dict[tumor]=(N_EC/N_E)/(N_C/N_NA)"
   ]
  },
  {
   "cell_type": "code",
   "execution_count": null,
   "metadata": {},
   "outputs": [],
   "source": [
    "tumor_OR_df=pd.DataFrame.from_dict(tumor_stats_dict,orient='index').rename(columns={0:'OR'})"
   ]
  },
  {
   "cell_type": "code",
   "execution_count": null,
   "metadata": {},
   "outputs": [],
   "source": [
    "q1=tumor_OR_df['OR'].quantile(1/3)\n",
    "q2=tumor_OR_df['OR'].quantile(2/3)"
   ]
  },
  {
   "cell_type": "code",
   "execution_count": null,
   "metadata": {},
   "outputs": [],
   "source": [
    "tumor_OR_df['Hi_OR']=1*(tumor_OR_df['OR']>q2)\n",
    "tumor_OR_df['Lo_OR']=1*(tumor_OR_df['OR']<=q1)\n",
    "tumor_OR_df['Med_OR']=1*((tumor_OR_df['OR']>q1)&(tumor_OR_df['OR']<=q2))"
   ]
  },
  {
   "cell_type": "code",
   "execution_count": null,
   "metadata": {},
   "outputs": [],
   "source": [
    "tumor_OR_df['Hi_OR']='OR, top 1/3'\n",
    "tumor_OR_df['Lo_OR']='OR, bottom 1/3'\n",
    "tumor_OR_df['Med_OR']='OR, middle 1/3'"
   ]
  },
  {
   "cell_type": "code",
   "execution_count": null,
   "metadata": {},
   "outputs": [],
   "source": [
    "tumor_OR_df['OR_char']=tumor_OR_df['Hi_OR']*(tumor_OR_df['OR']>q2)+tumor_OR_df['Lo_OR']*(tumor_OR_df['OR']<=q1)+tumor_OR_df['Med_OR']*((tumor_OR_df['OR']>q1)&(tumor_OR_df['OR']<=q2))"
   ]
  },
  {
   "cell_type": "code",
   "execution_count": null,
   "metadata": {},
   "outputs": [],
   "source": [
    "c_neg='lightsteelblue'\n",
    "c_neut='lightgray'\n",
    "c_pos='salmon'\n",
    "df_for_barchart=tumor_OR_df[['OR','OR_char']]\n",
    "df_for_barchart['OR_char']=df_for_barchart['OR_char'].replace('OR, bottom 1/3',c_neg)\n",
    "df_for_barchart['OR_char']=df_for_barchart['OR_char'].replace('OR, top 1/3',c_pos)\n",
    "df_for_barchart['OR_char']=df_for_barchart['OR_char'].replace('OR, middle 1/3',c_neut)"
   ]
  },
  {
   "cell_type": "code",
   "execution_count": null,
   "metadata": {},
   "outputs": [],
   "source": [
    "df_for_barchart=df_for_barchart.sort_values(by='OR')"
   ]
  },
  {
   "cell_type": "code",
   "execution_count": null,
   "metadata": {},
   "outputs": [],
   "source": [
    "plt.rcParams[\"font.family\"] = \"Arial\"\n",
    "plt.rcParams[\"font.size\"] = 14\n",
    "fig, ax = plt.subplots()\n",
    "lbls = list(df_for_barchart.index)\n",
    "lbls=[str(lbl) for lbl in lbls]\n",
    "ORs = list(df_for_barchart['OR'])\n",
    "\n",
    "bar_colors=list(df_for_barchart['OR_char'])\n",
    "plt.bar(lbls, ORs,color=bar_colors)\n",
    "plt.axhline(1,color='darkgray')\n",
    "  \n",
    "plt.yscale('log')\n",
    "plt.yticks([0.1,0.5,1,5,10])\n",
    "ax.yaxis.set_major_formatter(matplotlib.ticker.ScalarFormatter())\n",
    "x = np.arange(len(lbls))\n",
    "ax.set_xticks(x)\n",
    "ax.set_xticklabels(lbls)\n",
    "\n",
    "plt.title('Odds Ratio for CDK4 amplification\\nin the same cell as EGFR amplification',fontsize=14)\n",
    "plt.ylabel('OR')\n",
    "plt.xlabel('Tumor')\n",
    "plt.tight_layout()\n",
    "#plt.savefig('Odds_ratios_across_tumors_bar_plot.pdf')\n",
    "plt.show()"
   ]
  },
  {
   "cell_type": "code",
   "execution_count": null,
   "metadata": {},
   "outputs": [],
   "source": [
    "tumor_OR_df[['OR','OR_char']].to_csv('tumor_OR_df.csv')"
   ]
  },
  {
   "cell_type": "code",
   "execution_count": null,
   "metadata": {},
   "outputs": [],
   "source": []
  }
 ],
 "metadata": {
  "kernelspec": {
   "display_name": "Python 3 (ipykernel)",
   "language": "python",
   "name": "python3"
  },
  "language_info": {
   "codemirror_mode": {
    "name": "ipython",
    "version": 3
   },
   "file_extension": ".py",
   "mimetype": "text/x-python",
   "name": "python",
   "nbconvert_exporter": "python",
   "pygments_lexer": "ipython3",
   "version": "3.9.7"
  }
 },
 "nbformat": 4,
 "nbformat_minor": 4
}
