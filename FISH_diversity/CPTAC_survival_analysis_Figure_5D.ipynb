{
 "cells": [
  {
   "cell_type": "markdown",
   "id": "d4c153f4",
   "metadata": {},
   "source": [
    "Survival analysis of CPTAC data (including code for Fig. 5D)"
   ]
  },
  {
   "cell_type": "code",
   "execution_count": null,
   "id": "43485047",
   "metadata": {},
   "outputs": [],
   "source": [
    "import numpy as np\n",
    "import matplotlib\n",
    "import matplotlib.pyplot as plt\n",
    "import pandas as pd\n",
    "#import scipy.stats  as stats\n",
    "pd.set_option('display.max_columns', None)\n",
    "from lifelines import KaplanMeierFitter\n",
    "from lifelines.statistics import logrank_test\n",
    "from lifelines import CoxPHFitter"
   ]
  },
  {
   "cell_type": "code",
   "execution_count": null,
   "id": "b0552302",
   "metadata": {},
   "outputs": [],
   "source": [
    "proteomics=pd.read_excel('mmc3.xlsx',sheet_name='proteome_normalized')\n",
    "clinical=pd.read_excel('mmc2.xlsx',sheet_name='clinical_data')\n",
    "mutations=pd.read_excel('mmc2.xlsx',sheet_name='additional_annotations')"
   ]
  },
  {
   "cell_type": "code",
   "execution_count": null,
   "id": "ec16bbc9",
   "metadata": {},
   "outputs": [],
   "source": [
    "IDH_mutant_tumors = list(mutations[mutations['multiomic']=='IDH mutant']['case'])\n",
    "clinical2=clinical[['case_id','age','gender','path_diag_to_last_contact_days','path_diag_to_death_days','lost_to_follow_up']]\n",
    "protein_tumor_set=list(proteomics.columns[3:-10])\n",
    "protein_tumor_set=list(set(protein_tumor_set).difference(IDH_mutant_tumors))\n",
    "clinical2=clinical2[clinical2['case_id'].isin(protein_tumor_set)]\n",
    "clinical2['Male']=1*(clinical2['gender']=='Male')\n",
    "clinical2=clinical2.drop(['gender'],1)\n",
    "proteomics2=proteomics[['symbol']+protein_tumor_set]"
   ]
  },
  {
   "cell_type": "code",
   "execution_count": null,
   "id": "ce50090e",
   "metadata": {},
   "outputs": [],
   "source": [
    "def create_combined_df(survival_df,prot_list):\n",
    "    proteomics_red=proteomics2[proteomics2['symbol'].isin(prot_list)]\n",
    "    proteomics_red_T=proteomics_red.set_index('symbol').T\n",
    "    proteomics_red_T['case_id']=proteomics_red_T.index\n",
    "    proteomics_red_T=proteomics_red_T.reset_index().drop(['index'],1)\n",
    "    df_merged=survival_df.merge(proteomics_red_T,how='outer',on='case_id')\n",
    "    return df_merged\n",
    "\n",
    "def get_time_status_for_cox(cur_df):\n",
    "#cur_df=clinical_lo_E_hi_C\n",
    "    tumor_time_status={}\n",
    "    for row_num in range(len(cur_df)):\n",
    "        this_row=cur_df.iloc[row_num]\n",
    "        tumor=this_row['case_id']\n",
    "        if np.isnan(this_row['path_diag_to_last_contact_days']) and np.isnan(this_row['path_diag_to_death_days']):\n",
    "            continue\n",
    "        else:\n",
    "            if not np.isnan(this_row['path_diag_to_death_days']):\n",
    "                last_obs=this_row['path_diag_to_death_days']\n",
    "                status=1\n",
    "            else:\n",
    "                last_obs=this_row['path_diag_to_last_contact_days']\n",
    "                status=0\n",
    "        tumor_time_status[tumor]=[last_obs,status]\n",
    "    new_df=pd.DataFrame.from_dict(tumor_time_status,orient='index').rename(columns={0:'last_observation',1:'status'})\n",
    "    new_df['case_id']=new_df.index\n",
    "    return new_df.reset_index(drop=True)"
   ]
  },
  {
   "cell_type": "code",
   "execution_count": null,
   "id": "16fc5296",
   "metadata": {},
   "outputs": [],
   "source": [
    "survival_info_df=get_time_status_for_cox(clinical2).merge(clinical2[['case_id','age','Male']],how='left')\n",
    "df_combined=create_combined_df(survival_info_df,['CD163'])\n",
    "df_combined=df_combined.dropna()"
   ]
  },
  {
   "cell_type": "code",
   "execution_count": null,
   "id": "eb140264",
   "metadata": {},
   "outputs": [],
   "source": [
    "cph = CoxPHFitter()\n",
    "kmf = KaplanMeierFitter()"
   ]
  },
  {
   "cell_type": "code",
   "execution_count": null,
   "id": "e9f68165",
   "metadata": {},
   "outputs": [],
   "source": [
    "def clean_cph_table(this_df):\n",
    "    return this_df[['exp(coef)','exp(coef) lower 95%','exp(coef) upper 95%','p']]\n",
    "def get_survival_stats_sets(cur_set1,cur_set2):\n",
    "    this_df=df_combined[df_combined['case_id'].isin(cur_set1+cur_set2)]\n",
    "    this_df['in_group']=1*(this_df['case_id'].isin(cur_set1))\n",
    "    cph.fit(this_df, duration_col='last_observation', event_col='status', formula=\"in_group+Male+age\")\n",
    "    return clean_cph_table(cph.summary)\n",
    "def format_stats(tab):\n",
    "    HR=tab['exp(coef)']['in_group']\n",
    "    HR_lo=tab['exp(coef) lower 95%']['in_group']\n",
    "    HR_hi=tab['exp(coef) upper 95%']['in_group']\n",
    "    p_val=tab['p']['in_group']\n",
    "    return 'Cox HR = %.2f'%HR+ ' [%.2f'%HR_lo+',%.2f'%HR_hi+'], p = %.3f'%p_val\n",
    "\n",
    "def show_survival_curves(tumors1,name1,color1,tumors2,name2,color2,cox_stats,fname):\n",
    "    df1=df_combined[df_combined['case_id'].isin(tumors1)]\n",
    "\n",
    "    df2=df_combined[df_combined['case_id'].isin(tumors2)]\n",
    "    \n",
    "\n",
    "    fig, ax = plt.subplots(figsize=(12, 10))\n",
    "\n",
    "\n",
    "    df_base = df1.dropna()\n",
    "    df_base_name=name1\n",
    "    df2 = df2.dropna()\n",
    "    df2_name=name2\n",
    "\n",
    "    lr_result2=logrank_test(df_base['last_observation'], df2['last_observation'], event_observed_A=df_base['status'], event_observed_B=df2['status'])\n",
    "    pval2=lr_result2.p_value\n",
    "    plt.rcParams[\"font.size\"] = 30\n",
    "    plt.rcParams[\"font.family\"] = 'Arial'\n",
    "    kmf.fit(df_base['last_observation'],df_base['status'],label=df_base_name).plot_survival_function(ax=ax,color=color1)\n",
    "    kmf.fit(df2['last_observation'],df2['status'],label=df2_name).plot_survival_function(ax=ax,color=color2)\n",
    "    plt.xlabel('Days',fontsize=30)\n",
    "    plt.ylabel('Proportion Survived',fontsize=30)\n",
    "    plt.legend()\n",
    "    plt.title('Effect of CD163 protein expression on survival',fontsize=30)\n",
    "    plt.text(-0.02,0.02,'Log-rank p ='+'{:.3f}'.format(pval2)+'\\n'+cox_stats,fontsize=28)\n",
    "    #plt.title('Log-rank p ='+'{:.3f}'.format(pval2))\n",
    "    plt.setp(ax.artists, edgecolor = 'black')\n",
    "    plt.setp(ax.lines, color='black')\n",
    "    for axis in ['top','bottom','left','right']:\n",
    "        ax.spines[axis].set_linewidth(1.2)\n",
    "    plt.tight_layout()\n",
    "    #plt.savefig(fname)\n",
    "    plt.show()"
   ]
  },
  {
   "cell_type": "code",
   "execution_count": null,
   "id": "68b3dc2b",
   "metadata": {},
   "outputs": [],
   "source": [
    "q_los=[1/3,1/4,1/5,1/2-0.001]\n",
    "q_his=[2/3,3/4,4/5,1/2+0.001]\n",
    "ind=0\n",
    "q_lo=q_los[ind]\n",
    "q_hi=q_his[ind]\n",
    "\n",
    "prot='CD163'\n",
    "quants=df_combined[prot].quantile([q_lo,q_hi])\n",
    "lo_thresh=quants[q_lo]\n",
    "hi_thresh=quants[q_hi]\n",
    "lo_CD163_tumors=list(df_combined[df_combined[prot]<lo_thresh]['case_id'])\n",
    "hi_CD163_tumors=list(df_combined[df_combined[prot]>=hi_thresh]['case_id'])\n",
    "tab=get_survival_stats_sets(hi_CD163_tumors,lo_CD163_tumors)\n",
    "c_stats=format_stats(tab)\n",
    "t1=hi_CD163_tumors\n",
    "n1='Expression in top 1/3'\n",
    "c1='green'\n",
    "t2=lo_CD163_tumors\n",
    "n2='Expression in bottom 1/3'\n",
    "c2='black'\n",
    "show_survival_curves(t1,n1,c1,t2,n2,c2,c_stats,'CPTAC_top_bot_tertiles_IDH_mut_excluded.pdf')"
   ]
  },
  {
   "cell_type": "code",
   "execution_count": null,
   "id": "7a4f7811",
   "metadata": {},
   "outputs": [],
   "source": []
  }
 ],
 "metadata": {
  "kernelspec": {
   "display_name": "Python 3 (ipykernel)",
   "language": "python",
   "name": "python3"
  },
  "language_info": {
   "codemirror_mode": {
    "name": "ipython",
    "version": 3
   },
   "file_extension": ".py",
   "mimetype": "text/x-python",
   "name": "python",
   "nbconvert_exporter": "python",
   "pygments_lexer": "ipython3",
   "version": "3.9.7"
  }
 },
 "nbformat": 4,
 "nbformat_minor": 5
}
